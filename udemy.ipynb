{
 "cells": [
  {
   "cell_type": "code",
   "execution_count": 1,
   "metadata": {},
   "outputs": [],
   "source": [
    "import numpy as np"
   ]
  },
  {
   "cell_type": "code",
   "execution_count": 2,
   "metadata": {},
   "outputs": [],
   "source": [
    "import pandas as pd"
   ]
  },
  {
   "cell_type": "code",
   "execution_count": 3,
   "metadata": {},
   "outputs": [
    {
     "data": {
      "text/plain": [
       "[1, 13, 4, 5, 63, 100]"
      ]
     },
     "execution_count": 3,
     "metadata": {},
     "output_type": "execute_result"
    }
   ],
   "source": [
    "numbers = [1, 13, 4, 5, 63, 100]\n",
    "numbers"
   ]
  },
  {
   "cell_type": "code",
   "execution_count": 4,
   "metadata": {},
   "outputs": [
    {
     "name": "stdout",
     "output_type": "stream",
     "text": [
      "[2, 26, 8, 10, 126, 200]\n"
     ]
    }
   ],
   "source": [
    "new_numbers = []\n",
    "\n",
    "for n in numbers:\n",
    "    new_numbers.append(n * 2)\n",
    "\n",
    "print(new_numbers)"
   ]
  },
  {
   "cell_type": "code",
   "execution_count": 5,
   "metadata": {},
   "outputs": [
    {
     "name": "stdout",
     "output_type": "stream",
     "text": [
      "[2, 26, 8, 10, 126, 200]\n"
     ]
    }
   ],
   "source": [
    "new_numbers = [n * 2 for n in numbers]\n",
    "print(new_numbers)"
   ]
  },
  {
   "cell_type": "code",
   "execution_count": 6,
   "metadata": {},
   "outputs": [
    {
     "name": "stdout",
     "output_type": "stream",
     "text": [
      "0 1 2 3 4 1 2 3 4 5 "
     ]
    }
   ],
   "source": [
    "for i in range(2):\n",
    "    for j in range(5):\n",
    "        print(i + j, end = \" \")"
   ]
  },
  {
   "cell_type": "code",
   "execution_count": 7,
   "metadata": {},
   "outputs": [
    {
     "data": {
      "text/plain": [
       "[0, 1, 2, 3, 4, 1, 2, 3, 4, 5]"
      ]
     },
     "execution_count": 7,
     "metadata": {},
     "output_type": "execute_result"
    }
   ],
   "source": [
    "new_list_comprehension_1 = [i + j for i in range(2) for j in range(5)]\n",
    "new_list_comprehension_1"
   ]
  },
  {
   "cell_type": "code",
   "execution_count": 8,
   "metadata": {},
   "outputs": [
    {
     "data": {
      "text/plain": [
       "list"
      ]
     },
     "execution_count": 8,
     "metadata": {},
     "output_type": "execute_result"
    }
   ],
   "source": [
    "type(new_list_comprehension_1)"
   ]
  },
  {
   "cell_type": "code",
   "execution_count": 9,
   "metadata": {},
   "outputs": [
    {
     "name": "stdout",
     "output_type": "stream",
     "text": [
      "[0, 1, 2, 3, 4, 1, 2, 3, 4, 5]\n"
     ]
    }
   ],
   "source": [
    "print(new_list_comprehension_1)"
   ]
  },
  {
   "cell_type": "code",
   "execution_count": 10,
   "metadata": {},
   "outputs": [
    {
     "data": {
      "text/plain": [
       "[[0, 1], [1, 2], [2, 3], [3, 4], [4, 5]]"
      ]
     },
     "execution_count": 10,
     "metadata": {},
     "output_type": "execute_result"
    }
   ],
   "source": [
    "new_list_comprehension_2 = [[i + j for i in range(2)] for j in range(5)]\n",
    "new_list_comprehension_2"
   ]
  },
  {
   "cell_type": "code",
   "execution_count": 11,
   "metadata": {},
   "outputs": [
    {
     "data": {
      "text/plain": [
       "list"
      ]
     },
     "execution_count": 11,
     "metadata": {},
     "output_type": "execute_result"
    }
   ],
   "source": [
    "type(new_list_comprehension_2)"
   ]
  },
  {
   "cell_type": "code",
   "execution_count": 12,
   "metadata": {},
   "outputs": [
    {
     "data": {
      "text/plain": [
       "int"
      ]
     },
     "execution_count": 12,
     "metadata": {},
     "output_type": "execute_result"
    }
   ],
   "source": [
    "type(new_list_comprehension_1[1])"
   ]
  },
  {
   "cell_type": "code",
   "execution_count": 13,
   "metadata": {},
   "outputs": [
    {
     "data": {
      "text/plain": [
       "list"
      ]
     },
     "execution_count": 13,
     "metadata": {},
     "output_type": "execute_result"
    }
   ],
   "source": [
    "type(new_list_comprehension_2[1])"
   ]
  },
  {
   "cell_type": "code",
   "execution_count": 14,
   "metadata": {},
   "outputs": [
    {
     "data": {
      "text/plain": [
       "[1, 2, 3, 4, 5, 6, 7, 8, 9, 10]"
      ]
     },
     "execution_count": 14,
     "metadata": {},
     "output_type": "execute_result"
    }
   ],
   "source": [
    "list(range(1,11))"
   ]
  },
  {
   "cell_type": "code",
   "execution_count": 15,
   "metadata": {},
   "outputs": [
    {
     "data": {
      "text/plain": [
       "[3, 9, 15, 21, 27]"
      ]
     },
     "execution_count": 15,
     "metadata": {},
     "output_type": "execute_result"
    }
   ],
   "source": [
    "[num * 3 for num in range(1,11) if num % 2 != 0]"
   ]
  },
  {
   "cell_type": "code",
   "execution_count": 16,
   "metadata": {},
   "outputs": [
    {
     "name": "stdout",
     "output_type": "stream",
     "text": [
      "1, 27, 125, 343, 729, "
     ]
    }
   ],
   "source": [
    "for i in range(1,11):\n",
    "    if i % 2 != 0:\n",
    "        print(i ** 3, end = \", \")"
   ]
  },
  {
   "cell_type": "code",
   "execution_count": 17,
   "metadata": {},
   "outputs": [
    {
     "data": {
      "text/plain": [
       "[1, 'even', 27, 'even', 125, 'even', 343, 'even', 729, 'even']"
      ]
     },
     "execution_count": 17,
     "metadata": {},
     "output_type": "execute_result"
    }
   ],
   "source": [
    "[num ** 3  if num % 2 != 0 else \"even\" for num in range(1,11)]"
   ]
  },
  {
   "cell_type": "code",
   "execution_count": 18,
   "metadata": {},
   "outputs": [],
   "source": [
    "def raise_to_the_power_of_2(x):\n",
    "    return x ** 2"
   ]
  },
  {
   "cell_type": "code",
   "execution_count": 19,
   "metadata": {},
   "outputs": [
    {
     "data": {
      "text/plain": [
       "9"
      ]
     },
     "execution_count": 19,
     "metadata": {},
     "output_type": "execute_result"
    }
   ],
   "source": [
    "raise_to_the_power_of_2(3)"
   ]
  },
  {
   "cell_type": "code",
   "execution_count": 20,
   "metadata": {},
   "outputs": [
    {
     "data": {
      "text/plain": [
       "<function __main__.<lambda>(x)>"
      ]
     },
     "execution_count": 20,
     "metadata": {},
     "output_type": "execute_result"
    }
   ],
   "source": [
    "lambda x: x ** 2"
   ]
  },
  {
   "cell_type": "code",
   "execution_count": 21,
   "metadata": {},
   "outputs": [],
   "source": [
    "raise_to_the_power_of_2_lambda = lambda x: x ** 2"
   ]
  },
  {
   "cell_type": "code",
   "execution_count": 22,
   "metadata": {},
   "outputs": [
    {
     "data": {
      "text/plain": [
       "9"
      ]
     },
     "execution_count": 22,
     "metadata": {},
     "output_type": "execute_result"
    }
   ],
   "source": [
    "raise_to_the_power_of_2_lambda(3)"
   ]
  },
  {
   "cell_type": "code",
   "execution_count": 23,
   "metadata": {},
   "outputs": [
    {
     "data": {
      "text/plain": [
       "5.5"
      ]
     },
     "execution_count": 23,
     "metadata": {},
     "output_type": "execute_result"
    }
   ],
   "source": [
    "(lambda x: x/2) (11)"
   ]
  },
  {
   "cell_type": "code",
   "execution_count": 24,
   "metadata": {},
   "outputs": [
    {
     "data": {
      "text/plain": [
       "5"
      ]
     },
     "execution_count": 24,
     "metadata": {},
     "output_type": "execute_result"
    }
   ],
   "source": [
    "sum_xy = lambda x, y: x + y\n",
    "sum_xy(2,3)"
   ]
  },
  {
   "cell_type": "code",
   "execution_count": 25,
   "metadata": {},
   "outputs": [],
   "source": [
    "cal_xy = lambda x, y: x + y(x)"
   ]
  },
  {
   "cell_type": "code",
   "execution_count": 26,
   "metadata": {},
   "outputs": [
    {
     "data": {
      "text/plain": [
       "12"
      ]
     },
     "execution_count": 26,
     "metadata": {},
     "output_type": "execute_result"
    }
   ],
   "source": [
    "cal_xy(2, lambda x: x * 5)"
   ]
  },
  {
   "cell_type": "code",
   "execution_count": 27,
   "metadata": {},
   "outputs": [],
   "source": [
    "base_url = \"https://api.exchangeratesapi.io/v1/\""
   ]
  },
  {
   "cell_type": "code",
   "execution_count": 28,
   "metadata": {},
   "outputs": [
    {
     "name": "stdout",
     "output_type": "stream",
     "text": [
      "Requirement already satisfied: requests in c:\\users\\arnab\\appdata\\local\\programs\\python\\python312\\lib\\site-packages (2.31.0)\n",
      "Requirement already satisfied: charset-normalizer<4,>=2 in c:\\users\\arnab\\appdata\\local\\programs\\python\\python312\\lib\\site-packages (from requests) (3.3.2)\n",
      "Requirement already satisfied: idna<4,>=2.5 in c:\\users\\arnab\\appdata\\local\\programs\\python\\python312\\lib\\site-packages (from requests) (3.7)\n",
      "Requirement already satisfied: urllib3<3,>=1.21.1 in c:\\users\\arnab\\appdata\\local\\programs\\python\\python312\\lib\\site-packages (from requests) (2.2.1)\n",
      "Requirement already satisfied: certifi>=2017.4.17 in c:\\users\\arnab\\appdata\\local\\programs\\python\\python312\\lib\\site-packages (from requests) (2024.2.2)\n",
      "Note: you may need to restart the kernel to use updated packages.\n"
     ]
    }
   ],
   "source": [
    "pip install requests"
   ]
  },
  {
   "cell_type": "code",
   "execution_count": 29,
   "metadata": {},
   "outputs": [],
   "source": [
    "import requests"
   ]
  },
  {
   "cell_type": "code",
   "execution_count": 30,
   "metadata": {},
   "outputs": [
    {
     "name": "stdout",
     "output_type": "stream",
     "text": [
      "<!DOCTYPE html>\n",
      "<html>\n",
      "<body>\n",
      "\n",
      "<h1>This is a Test Page</h1>\n",
      "\n",
      "</body>\n",
      "</html>\n"
     ]
    }
   ],
   "source": [
    "x = requests.get('https://w3schools.com/python/demopage.htm')\n",
    "\n",
    "print(x.text)"
   ]
  },
  {
   "cell_type": "code",
   "execution_count": 31,
   "metadata": {},
   "outputs": [],
   "source": [
    "response = requests.get(base_url)"
   ]
  },
  {
   "cell_type": "code",
   "execution_count": 32,
   "metadata": {},
   "outputs": [
    {
     "name": "stdout",
     "output_type": "stream",
     "text": [
      "<Response [401]>\n"
     ]
    }
   ],
   "source": [
    "print(response)"
   ]
  },
  {
   "cell_type": "code",
   "execution_count": 33,
   "metadata": {},
   "outputs": [
    {
     "data": {
      "text/plain": [
       "False"
      ]
     },
     "execution_count": 33,
     "metadata": {},
     "output_type": "execute_result"
    }
   ],
   "source": [
    "response.ok"
   ]
  },
  {
   "cell_type": "code",
   "execution_count": 34,
   "metadata": {},
   "outputs": [
    {
     "data": {
      "text/plain": [
       "401"
      ]
     },
     "execution_count": 34,
     "metadata": {},
     "output_type": "execute_result"
    }
   ],
   "source": [
    "response.status_code"
   ]
  },
  {
   "cell_type": "code",
   "execution_count": 35,
   "metadata": {},
   "outputs": [],
   "source": [
    "test_url = \"https://api.coindesk.com/v1/bpi/currentprice.json\""
   ]
  },
  {
   "cell_type": "code",
   "execution_count": 36,
   "metadata": {},
   "outputs": [
    {
     "name": "stdout",
     "output_type": "stream",
     "text": [
      "{\"time\":{\"updated\":\"Jun 4, 2024 17:00:33 UTC\",\"updatedISO\":\"2024-06-04T17:00:33+00:00\",\"updateduk\":\"Jun 4, 2024 at 18:00 BST\"},\"disclaimer\":\"This data was produced from the CoinDesk Bitcoin Price Index (USD). Non-USD currency data converted using hourly conversion rate from openexchangerates.org\",\"chartName\":\"Bitcoin\",\"bpi\":{\"USD\":{\"code\":\"USD\",\"symbol\":\"&#36;\",\"rate\":\"70,712.314\",\"description\":\"United States Dollar\",\"rate_float\":70712.3137},\"GBP\":{\"code\":\"GBP\",\"symbol\":\"&pound;\",\"rate\":\"55,318.314\",\"description\":\"British Pound Sterling\",\"rate_float\":55318.3137},\"EUR\":{\"code\":\"EUR\",\"symbol\":\"&euro;\",\"rate\":\"65,005.759\",\"description\":\"Euro\",\"rate_float\":65005.7593}}}\n"
     ]
    }
   ],
   "source": [
    "test_response = requests.get(test_url)\n",
    "print(test_response.text)"
   ]
  },
  {
   "cell_type": "code",
   "execution_count": 37,
   "metadata": {},
   "outputs": [],
   "source": [
    "data = pd.DataFrame(test_response)"
   ]
  },
  {
   "cell_type": "code",
   "execution_count": 38,
   "metadata": {},
   "outputs": [
    {
     "name": "stdout",
     "output_type": "stream",
     "text": [
      "                                                   0\n",
      "0  b'{\"time\":{\"updated\":\"Jun 4, 2024 17:00:33 UTC...\n",
      "1  b'disclaimer\":\"This data was produced from the...\n",
      "2  b'nversion rate from openexchangerates.org\",\"c...\n",
      "3  b'\"description\":\"United States Dollar\",\"rate_f...\n",
      "4  b'ption\":\"British Pound Sterling\",\"rate_float\"...\n",
      "5              b':\"Euro\",\"rate_float\":65005.7593}}}'\n"
     ]
    }
   ],
   "source": [
    "print(data)"
   ]
  },
  {
   "cell_type": "code",
   "execution_count": 39,
   "metadata": {},
   "outputs": [],
   "source": [
    "url = \"https://api.agify.io?name=Shreyasi\""
   ]
  },
  {
   "cell_type": "code",
   "execution_count": 40,
   "metadata": {},
   "outputs": [],
   "source": [
    "url2 = \"https://dog.ceo/api/breeds/image/random\""
   ]
  },
  {
   "cell_type": "code",
   "execution_count": 41,
   "metadata": {},
   "outputs": [
    {
     "name": "stdout",
     "output_type": "stream",
     "text": [
      "{\"count\":11,\"name\":\"Shreyasi\",\"age\":38}\n"
     ]
    }
   ],
   "source": [
    "url_response = requests.get(url)\n",
    "print(url_response.text)"
   ]
  },
  {
   "cell_type": "code",
   "execution_count": 42,
   "metadata": {},
   "outputs": [
    {
     "name": "stdout",
     "output_type": "stream",
     "text": [
      "                                            0\n",
      "0  b'{\"count\":11,\"name\":\"Shreyasi\",\"age\":38}'\n"
     ]
    }
   ],
   "source": [
    "new_data = pd.DataFrame(url_response)\n",
    "print(new_data)"
   ]
  },
  {
   "cell_type": "code",
   "execution_count": 43,
   "metadata": {},
   "outputs": [
    {
     "data": {
      "text/plain": [
       "{'time': {'updated': 'Jun 4, 2024 17:00:33 UTC',\n",
       "  'updatedISO': '2024-06-04T17:00:33+00:00',\n",
       "  'updateduk': 'Jun 4, 2024 at 18:00 BST'},\n",
       " 'disclaimer': 'This data was produced from the CoinDesk Bitcoin Price Index (USD). Non-USD currency data converted using hourly conversion rate from openexchangerates.org',\n",
       " 'chartName': 'Bitcoin',\n",
       " 'bpi': {'USD': {'code': 'USD',\n",
       "   'symbol': '&#36;',\n",
       "   'rate': '70,712.314',\n",
       "   'description': 'United States Dollar',\n",
       "   'rate_float': 70712.3137},\n",
       "  'GBP': {'code': 'GBP',\n",
       "   'symbol': '&pound;',\n",
       "   'rate': '55,318.314',\n",
       "   'description': 'British Pound Sterling',\n",
       "   'rate_float': 55318.3137},\n",
       "  'EUR': {'code': 'EUR',\n",
       "   'symbol': '&euro;',\n",
       "   'rate': '65,005.759',\n",
       "   'description': 'Euro',\n",
       "   'rate_float': 65005.7593}}}"
      ]
     },
     "execution_count": 43,
     "metadata": {},
     "output_type": "execute_result"
    }
   ],
   "source": [
    "test_response.json()"
   ]
  },
  {
   "cell_type": "code",
   "execution_count": 44,
   "metadata": {},
   "outputs": [],
   "source": [
    "import json"
   ]
  },
  {
   "cell_type": "code",
   "execution_count": 45,
   "metadata": {},
   "outputs": [
    {
     "data": {
      "text/plain": [
       "'{\\n    \"time\": {\\n        \"updated\": \"Jun 4, 2024 17:00:33 UTC\",\\n        \"updatedISO\": \"2024-06-04T17:00:33+00:00\",\\n        \"updateduk\": \"Jun 4, 2024 at 18:00 BST\"\\n    },\\n    \"disclaimer\": \"This data was produced from the CoinDesk Bitcoin Price Index (USD). Non-USD currency data converted using hourly conversion rate from openexchangerates.org\",\\n    \"chartName\": \"Bitcoin\",\\n    \"bpi\": {\\n        \"USD\": {\\n            \"code\": \"USD\",\\n            \"symbol\": \"&#36;\",\\n            \"rate\": \"70,712.314\",\\n            \"description\": \"United States Dollar\",\\n            \"rate_float\": 70712.3137\\n        },\\n        \"GBP\": {\\n            \"code\": \"GBP\",\\n            \"symbol\": \"&pound;\",\\n            \"rate\": \"55,318.314\",\\n            \"description\": \"British Pound Sterling\",\\n            \"rate_float\": 55318.3137\\n        },\\n        \"EUR\": {\\n            \"code\": \"EUR\",\\n            \"symbol\": \"&euro;\",\\n            \"rate\": \"65,005.759\",\\n            \"description\": \"Euro\",\\n            \"rate_float\": 65005.7593\\n        }\\n    }\\n}'"
      ]
     },
     "execution_count": 45,
     "metadata": {},
     "output_type": "execute_result"
    }
   ],
   "source": [
    "json.dumps(test_response.json(), indent = 4)"
   ]
  },
  {
   "cell_type": "code",
   "execution_count": 46,
   "metadata": {},
   "outputs": [
    {
     "name": "stdout",
     "output_type": "stream",
     "text": [
      "{\n",
      "    \"time\": {\n",
      "        \"updated\": \"Jun 4, 2024 17:00:33 UTC\",\n",
      "        \"updatedISO\": \"2024-06-04T17:00:33+00:00\",\n",
      "        \"updateduk\": \"Jun 4, 2024 at 18:00 BST\"\n",
      "    },\n",
      "    \"disclaimer\": \"This data was produced from the CoinDesk Bitcoin Price Index (USD). Non-USD currency data converted using hourly conversion rate from openexchangerates.org\",\n",
      "    \"chartName\": \"Bitcoin\",\n",
      "    \"bpi\": {\n",
      "        \"USD\": {\n",
      "            \"code\": \"USD\",\n",
      "            \"symbol\": \"&#36;\",\n",
      "            \"rate\": \"70,712.314\",\n",
      "            \"description\": \"United States Dollar\",\n",
      "            \"rate_float\": 70712.3137\n",
      "        },\n",
      "        \"GBP\": {\n",
      "            \"code\": \"GBP\",\n",
      "            \"symbol\": \"&pound;\",\n",
      "            \"rate\": \"55,318.314\",\n",
      "            \"description\": \"British Pound Sterling\",\n",
      "            \"rate_float\": 55318.3137\n",
      "        },\n",
      "        \"EUR\": {\n",
      "            \"code\": \"EUR\",\n",
      "            \"symbol\": \"&euro;\",\n",
      "            \"rate\": \"65,005.759\",\n",
      "            \"description\": \"Euro\",\n",
      "            \"rate_float\": 65005.7593\n",
      "        }\n",
      "    }\n",
      "}\n"
     ]
    }
   ],
   "source": [
    "print(json.dumps(test_response.json(), indent = 4))"
   ]
  },
  {
   "cell_type": "code",
   "execution_count": 47,
   "metadata": {},
   "outputs": [
    {
     "data": {
      "text/plain": [
       "dict_keys(['time', 'disclaimer', 'chartName', 'bpi'])"
      ]
     },
     "execution_count": 47,
     "metadata": {},
     "output_type": "execute_result"
    }
   ],
   "source": [
    "test_response.json().keys()"
   ]
  },
  {
   "cell_type": "code",
   "execution_count": 48,
   "metadata": {},
   "outputs": [],
   "source": [
    "import pandas as pd"
   ]
  },
  {
   "cell_type": "code",
   "execution_count": 49,
   "metadata": {},
   "outputs": [],
   "source": [
    "import numpy as np"
   ]
  },
  {
   "cell_type": "code",
   "execution_count": 50,
   "metadata": {},
   "outputs": [
    {
     "name": "stdout",
     "output_type": "stream",
     "text": [
      "Note: you may need to restart the kernel to use updated packages.\n"
     ]
    },
    {
     "name": "stderr",
     "output_type": "stream",
     "text": [
      "ERROR: Could not find a version that satisfies the requirement upgrade (from versions: none)\n",
      "ERROR: No matching distribution found for upgrade\n"
     ]
    }
   ],
   "source": [
    "pip install upgrade numpy"
   ]
  },
  {
   "cell_type": "code",
   "execution_count": 51,
   "metadata": {},
   "outputs": [
    {
     "data": {
      "text/plain": [
       "Product A    22250\n",
       "Product B    16600\n",
       "Product C    15600\n",
       "dtype: int64"
      ]
     },
     "execution_count": 51,
     "metadata": {},
     "output_type": "execute_result"
    }
   ],
   "source": [
    "prices_per_category = pd.Series({'Product A': 22250, 'Product B': 16600, 'Product C': 15600})\n",
    "prices_per_category"
   ]
  },
  {
   "cell_type": "code",
   "execution_count": 52,
   "metadata": {},
   "outputs": [
    {
     "data": {
      "text/plain": [
       "array([22250, 16600, 15600], dtype=int64)"
      ]
     },
     "execution_count": 52,
     "metadata": {},
     "output_type": "execute_result"
    }
   ],
   "source": [
    "prices_per_category.values"
   ]
  },
  {
   "cell_type": "code",
   "execution_count": 53,
   "metadata": {},
   "outputs": [
    {
     "data": {
      "text/plain": [
       "numpy.ndarray"
      ]
     },
     "execution_count": 53,
     "metadata": {},
     "output_type": "execute_result"
    }
   ],
   "source": [
    "type(prices_per_category.values)"
   ]
  },
  {
   "cell_type": "code",
   "execution_count": 54,
   "metadata": {},
   "outputs": [
    {
     "data": {
      "text/plain": [
       "<NumpyExtensionArray>\n",
       "[22250, 16600, 15600]\n",
       "Length: 3, dtype: int64"
      ]
     },
     "execution_count": 54,
     "metadata": {},
     "output_type": "execute_result"
    }
   ],
   "source": [
    "prices_per_category.array"
   ]
  },
  {
   "cell_type": "code",
   "execution_count": 55,
   "metadata": {},
   "outputs": [
    {
     "data": {
      "text/plain": [
       "pandas.core.arrays.numpy_.NumpyExtensionArray"
      ]
     },
     "execution_count": 55,
     "metadata": {},
     "output_type": "execute_result"
    }
   ],
   "source": [
    "type(prices_per_category.array)"
   ]
  },
  {
   "cell_type": "code",
   "execution_count": 56,
   "metadata": {},
   "outputs": [
    {
     "data": {
      "text/plain": [
       "array([22250, 16600, 15600], dtype=int64)"
      ]
     },
     "execution_count": 56,
     "metadata": {},
     "output_type": "execute_result"
    }
   ],
   "source": [
    "prices_per_category.to_numpy()"
   ]
  },
  {
   "cell_type": "code",
   "execution_count": 57,
   "metadata": {},
   "outputs": [
    {
     "data": {
      "text/plain": [
       "numpy.ndarray"
      ]
     },
     "execution_count": 57,
     "metadata": {},
     "output_type": "execute_result"
    }
   ],
   "source": [
    "type(prices_per_category.to_numpy())"
   ]
  },
  {
   "cell_type": "code",
   "execution_count": 58,
   "metadata": {},
   "outputs": [
    {
     "data": {
      "text/plain": [
       "22250"
      ]
     },
     "execution_count": 58,
     "metadata": {},
     "output_type": "execute_result"
    }
   ],
   "source": [
    "prices_per_category.values[0]"
   ]
  },
  {
   "cell_type": "code",
   "execution_count": 59,
   "metadata": {},
   "outputs": [
    {
     "data": {
      "text/plain": [
       "numpy.int64"
      ]
     },
     "execution_count": 59,
     "metadata": {},
     "output_type": "execute_result"
    }
   ],
   "source": [
    "type(prices_per_category.values[0])"
   ]
  },
  {
   "cell_type": "code",
   "execution_count": 60,
   "metadata": {},
   "outputs": [
    {
     "data": {
      "text/plain": [
       "22250"
      ]
     },
     "execution_count": 60,
     "metadata": {},
     "output_type": "execute_result"
    }
   ],
   "source": [
    "prices_per_category.array[0]"
   ]
  },
  {
   "cell_type": "code",
   "execution_count": 61,
   "metadata": {},
   "outputs": [
    {
     "data": {
      "text/plain": [
       "numpy.int64"
      ]
     },
     "execution_count": 61,
     "metadata": {},
     "output_type": "execute_result"
    }
   ],
   "source": [
    "type(prices_per_category.array[0])"
   ]
  },
  {
   "cell_type": "code",
   "execution_count": 62,
   "metadata": {},
   "outputs": [
    {
     "data": {
      "text/plain": [
       "22250"
      ]
     },
     "execution_count": 62,
     "metadata": {},
     "output_type": "execute_result"
    }
   ],
   "source": [
    "prices_per_category.to_numpy()[0]"
   ]
  },
  {
   "cell_type": "code",
   "execution_count": 63,
   "metadata": {},
   "outputs": [
    {
     "data": {
      "text/plain": [
       "numpy.int64"
      ]
     },
     "execution_count": 63,
     "metadata": {},
     "output_type": "execute_result"
    }
   ],
   "source": [
    "type(prices_per_category.to_numpy()[0])"
   ]
  },
  {
   "cell_type": "code",
   "execution_count": 64,
   "metadata": {},
   "outputs": [
    {
     "data": {
      "text/plain": [
       "0      15\n",
       "1    1000\n",
       "2      23\n",
       "3      45\n",
       "4     444\n",
       "dtype: int64"
      ]
     },
     "execution_count": 64,
     "metadata": {},
     "output_type": "execute_result"
    }
   ],
   "source": [
    "num = pd.Series([15, 1000, 23, 45, 444])\n",
    "num"
   ]
  },
  {
   "cell_type": "code",
   "execution_count": 65,
   "metadata": {},
   "outputs": [
    {
     "data": {
      "text/plain": [
       "0      15\n",
       "2      23\n",
       "3      45\n",
       "4     444\n",
       "1    1000\n",
       "dtype: int64"
      ]
     },
     "execution_count": 65,
     "metadata": {},
     "output_type": "execute_result"
    }
   ],
   "source": [
    "num.sort_values()"
   ]
  },
  {
   "cell_type": "code",
   "execution_count": 66,
   "metadata": {},
   "outputs": [
    {
     "data": {
      "text/plain": [
       "0      15\n",
       "2      23\n",
       "3      45\n",
       "4     444\n",
       "1    1000\n",
       "dtype: int64"
      ]
     },
     "execution_count": 66,
     "metadata": {},
     "output_type": "execute_result"
    }
   ],
   "source": [
    "num.sort_values(ascending=True)"
   ]
  },
  {
   "cell_type": "code",
   "execution_count": 67,
   "metadata": {},
   "outputs": [
    {
     "data": {
      "text/plain": [
       "1    1000\n",
       "4     444\n",
       "3      45\n",
       "2      23\n",
       "0      15\n",
       "dtype: int64"
      ]
     },
     "execution_count": 67,
     "metadata": {},
     "output_type": "execute_result"
    }
   ],
   "source": [
    "num.sort_values(ascending=False)"
   ]
  },
  {
   "cell_type": "code",
   "execution_count": 68,
   "metadata": {},
   "outputs": [
    {
     "data": {
      "text/plain": [
       "0     Location 3\n",
       "1     Location 6\n",
       "2     Location 8\n",
       "3    Location 26\n",
       "4    Location 34\n",
       "Name: Location, dtype: object"
      ]
     },
     "execution_count": 68,
     "metadata": {},
     "output_type": "execute_result"
    }
   ],
   "source": [
    "DATA = pd.read_csv('Location.csv')\n",
    "location_data = DATA.copy().squeeze()\n",
    "location_data.head()"
   ]
  },
  {
   "cell_type": "code",
   "execution_count": 69,
   "metadata": {},
   "outputs": [
    {
     "data": {
      "text/plain": [
       "637     Location 1\n",
       "884     Location 1\n",
       "465     Location 1\n",
       "716    Location 10\n",
       "623    Location 10\n",
       "          ...     \n",
       "482    Location 97\n",
       "128    Location 97\n",
       "669    Location 97\n",
       "757    Location 98\n",
       "372    Location 99\n",
       "Name: Location, Length: 1043, dtype: object"
      ]
     },
     "execution_count": 69,
     "metadata": {},
     "output_type": "execute_result"
    }
   ],
   "source": [
    "location_data.sort_values()"
   ]
  },
  {
   "cell_type": "code",
   "execution_count": 70,
   "metadata": {},
   "outputs": [
    {
     "data": {
      "text/plain": [
       "637     Location 1\n",
       "884     Location 1\n",
       "465     Location 1\n",
       "716    Location 10\n",
       "623    Location 10\n",
       "          ...     \n",
       "482    Location 97\n",
       "128    Location 97\n",
       "669    Location 97\n",
       "757    Location 98\n",
       "372    Location 99\n",
       "Name: Location, Length: 1043, dtype: object"
      ]
     },
     "execution_count": 70,
     "metadata": {},
     "output_type": "execute_result"
    }
   ],
   "source": [
    "location_data.sort_values(ascending=True)"
   ]
  },
  {
   "cell_type": "code",
   "execution_count": 71,
   "metadata": {},
   "outputs": [
    {
     "data": {
      "text/plain": [
       "372    Location 99\n",
       "757    Location 98\n",
       "128    Location 97\n",
       "482    Location 97\n",
       "271    Location 97\n",
       "          ...     \n",
       "202    Location 10\n",
       "298    Location 10\n",
       "637     Location 1\n",
       "884     Location 1\n",
       "465     Location 1\n",
       "Name: Location, Length: 1043, dtype: object"
      ]
     },
     "execution_count": 71,
     "metadata": {},
     "output_type": "execute_result"
    }
   ],
   "source": [
    "location_data.sort_values(ascending=False)"
   ]
  },
  {
   "cell_type": "code",
   "execution_count": 72,
   "metadata": {},
   "outputs": [
    {
     "data": {
      "text/plain": [
       "0     Location 3\n",
       "1     Location 6\n",
       "2     Location 8\n",
       "3    Location 26\n",
       "4    Location 34\n",
       "Name: Location, dtype: object"
      ]
     },
     "execution_count": 72,
     "metadata": {},
     "output_type": "execute_result"
    }
   ],
   "source": [
    "DATA = pd.read_csv('Location.csv')\n",
    "location_data = DATA.copy().squeeze()\n",
    "location_data.head()"
   ]
  },
  {
   "cell_type": "code",
   "execution_count": 73,
   "metadata": {},
   "outputs": [
    {
     "data": {
      "text/plain": [
       "RangeIndex(start=0, stop=1043, step=1)"
      ]
     },
     "execution_count": 73,
     "metadata": {},
     "output_type": "execute_result"
    }
   ],
   "source": [
    "location_data.index"
   ]
  },
  {
   "cell_type": "code",
   "execution_count": 74,
   "metadata": {},
   "outputs": [
    {
     "data": {
      "text/plain": [
       "'Location'"
      ]
     },
     "execution_count": 74,
     "metadata": {},
     "output_type": "execute_result"
    }
   ],
   "source": [
    "location_data.name"
   ]
  },
  {
   "cell_type": "code",
   "execution_count": 75,
   "metadata": {},
   "outputs": [],
   "source": [
    "location_data.index.name"
   ]
  },
  {
   "cell_type": "code",
   "execution_count": 76,
   "metadata": {},
   "outputs": [],
   "source": [
    "location_data.index.name='Index'"
   ]
  },
  {
   "cell_type": "code",
   "execution_count": 77,
   "metadata": {},
   "outputs": [
    {
     "data": {
      "text/plain": [
       "Index\n",
       "0        Location 3\n",
       "1        Location 6\n",
       "2        Location 8\n",
       "3       Location 26\n",
       "4       Location 34\n",
       "           ...     \n",
       "1038    Location 73\n",
       "1039    Location 82\n",
       "1040    Location 11\n",
       "1041    Location 26\n",
       "1042    Location 94\n",
       "Name: Location, Length: 1043, dtype: object"
      ]
     },
     "execution_count": 77,
     "metadata": {},
     "output_type": "execute_result"
    }
   ],
   "source": [
    "location_data"
   ]
  },
  {
   "cell_type": "code",
   "execution_count": 78,
   "metadata": {},
   "outputs": [
    {
     "data": {
      "text/plain": [
       "'Index'"
      ]
     },
     "execution_count": 78,
     "metadata": {},
     "output_type": "execute_result"
    }
   ],
   "source": [
    "location_data.index.name"
   ]
  },
  {
   "cell_type": "code",
   "execution_count": 79,
   "metadata": {},
   "outputs": [
    {
     "data": {
      "text/plain": [
       "array([   0,    1,    2, ..., 1040, 1041, 1042], dtype=int64)"
      ]
     },
     "execution_count": 79,
     "metadata": {},
     "output_type": "execute_result"
    }
   ],
   "source": [
    "location_data.index.to_numpy()"
   ]
  },
  {
   "cell_type": "code",
   "execution_count": 80,
   "metadata": {},
   "outputs": [
    {
     "data": {
      "text/plain": [
       "0     Location 3\n",
       "1     Location 6\n",
       "2     Location 8\n",
       "3    Location 26\n",
       "4    Location 34\n",
       "Name: Location, dtype: object"
      ]
     },
     "execution_count": 80,
     "metadata": {},
     "output_type": "execute_result"
    }
   ],
   "source": [
    "DATA = pd.read_csv('Location.csv')\n",
    "location_data = DATA.copy().squeeze()\n",
    "location_data.head()"
   ]
  },
  {
   "cell_type": "code",
   "execution_count": 81,
   "metadata": {},
   "outputs": [
    {
     "data": {
      "text/plain": [
       "372    Location 99\n",
       "757    Location 98\n",
       "128    Location 97\n",
       "482    Location 97\n",
       "271    Location 97\n",
       "Name: Location, dtype: object"
      ]
     },
     "execution_count": 81,
     "metadata": {},
     "output_type": "execute_result"
    }
   ],
   "source": [
    "location_data_sv = location_data.sort_values(ascending=False)\n",
    "location_data_sv.head()"
   ]
  },
  {
   "cell_type": "code",
   "execution_count": 82,
   "metadata": {},
   "outputs": [
    {
     "data": {
      "text/plain": [
       "Index([ 372,  757,  128,  482,  271,  669,  612,   29,  518,  598,\n",
       "       ...\n",
       "        904,  912, 1010,   14,  716,  202,  298,  637,  884,  465],\n",
       "      dtype='int64', length=1043)"
      ]
     },
     "execution_count": 82,
     "metadata": {},
     "output_type": "execute_result"
    }
   ],
   "source": [
    "location_data_sv.index"
   ]
  },
  {
   "cell_type": "code",
   "execution_count": 83,
   "metadata": {},
   "outputs": [
    {
     "data": {
      "text/plain": [
       "Index([   0,    1,    2,    3,    4,    5,    6,    7,    8,    9,\n",
       "       ...\n",
       "       1033, 1034, 1035, 1036, 1037, 1038, 1039, 1040, 1041, 1042],\n",
       "      dtype='int64', length=1043)"
      ]
     },
     "execution_count": 83,
     "metadata": {},
     "output_type": "execute_result"
    }
   ],
   "source": [
    "location_data_sv.index.sort_values()"
   ]
  },
  {
   "cell_type": "code",
   "execution_count": 84,
   "metadata": {},
   "outputs": [
    {
     "data": {
      "text/plain": [
       "372    Location 99\n",
       "757    Location 98\n",
       "128    Location 97\n",
       "482    Location 97\n",
       "271    Location 97\n",
       "Name: Location, dtype: object"
      ]
     },
     "execution_count": 84,
     "metadata": {},
     "output_type": "execute_result"
    }
   ],
   "source": [
    "location_data_sv.head()"
   ]
  },
  {
   "cell_type": "code",
   "execution_count": 85,
   "metadata": {},
   "outputs": [],
   "source": [
    "location_data_sv.index = location_data_sv.index.sort_values()"
   ]
  },
  {
   "cell_type": "code",
   "execution_count": 86,
   "metadata": {},
   "outputs": [
    {
     "data": {
      "text/plain": [
       "0       Location 99\n",
       "1       Location 98\n",
       "2       Location 97\n",
       "3       Location 97\n",
       "4       Location 97\n",
       "           ...     \n",
       "1038    Location 10\n",
       "1039    Location 10\n",
       "1040     Location 1\n",
       "1041     Location 1\n",
       "1042     Location 1\n",
       "Name: Location, Length: 1043, dtype: object"
      ]
     },
     "execution_count": 86,
     "metadata": {},
     "output_type": "execute_result"
    }
   ],
   "source": [
    "location_data_sv"
   ]
  },
  {
   "cell_type": "code",
   "execution_count": 87,
   "metadata": {},
   "outputs": [
    {
     "data": {
      "text/plain": [
       "372    Location 99\n",
       "757    Location 98\n",
       "128    Location 97\n",
       "482    Location 97\n",
       "271    Location 97\n",
       "Name: Location, dtype: object"
      ]
     },
     "execution_count": 87,
     "metadata": {},
     "output_type": "execute_result"
    }
   ],
   "source": [
    "location_data_sv = location_data.sort_values(ascending = False)\n",
    "location_data_sv.head()"
   ]
  },
  {
   "cell_type": "code",
   "execution_count": 88,
   "metadata": {},
   "outputs": [
    {
     "data": {
      "text/plain": [
       "0        Location 3\n",
       "1        Location 6\n",
       "2        Location 8\n",
       "3       Location 26\n",
       "4       Location 34\n",
       "           ...     \n",
       "1038    Location 73\n",
       "1039    Location 82\n",
       "1040    Location 11\n",
       "1041    Location 26\n",
       "1042    Location 94\n",
       "Name: Location, Length: 1043, dtype: object"
      ]
     },
     "execution_count": 88,
     "metadata": {},
     "output_type": "execute_result"
    }
   ],
   "source": [
    "location_data_sv.sort_index()"
   ]
  },
  {
   "cell_type": "code",
   "execution_count": 89,
   "metadata": {},
   "outputs": [
    {
     "data": {
      "text/plain": [
       "372    Location 99\n",
       "757    Location 98\n",
       "128    Location 97\n",
       "482    Location 97\n",
       "271    Location 97\n",
       "          ...     \n",
       "202    Location 10\n",
       "298    Location 10\n",
       "637     Location 1\n",
       "884     Location 1\n",
       "465     Location 1\n",
       "Name: Location, Length: 1043, dtype: object"
      ]
     },
     "execution_count": 89,
     "metadata": {},
     "output_type": "execute_result"
    }
   ],
   "source": [
    "location_data_sv"
   ]
  },
  {
   "cell_type": "code",
   "execution_count": 90,
   "metadata": {},
   "outputs": [
    {
     "data": {
      "text/plain": [
       "0        Location 3\n",
       "1        Location 6\n",
       "2        Location 8\n",
       "3       Location 26\n",
       "4       Location 34\n",
       "           ...     \n",
       "1038    Location 73\n",
       "1039    Location 82\n",
       "1040    Location 11\n",
       "1041    Location 26\n",
       "1042    Location 94\n",
       "Name: Location, Length: 1043, dtype: object"
      ]
     },
     "execution_count": 90,
     "metadata": {},
     "output_type": "execute_result"
    }
   ],
   "source": [
    "location_data_sv = location_data_sv.sort_index(ascending=True)\n",
    "location_data_sv"
   ]
  },
  {
   "cell_type": "code",
   "execution_count": 91,
   "metadata": {},
   "outputs": [
    {
     "data": {
      "text/plain": [
       "array([[3, 2, 1],\n",
       "       [6, 3, 2]])"
      ]
     },
     "execution_count": 91,
     "metadata": {},
     "output_type": "execute_result"
    }
   ],
   "source": [
    "array_a = np.array([[3, 2, 1], [6, 3, 2]])\n",
    "array_a"
   ]
  },
  {
   "cell_type": "code",
   "execution_count": 92,
   "metadata": {},
   "outputs": [
    {
     "data": {
      "text/html": [
       "<div>\n",
       "<style scoped>\n",
       "    .dataframe tbody tr th:only-of-type {\n",
       "        vertical-align: middle;\n",
       "    }\n",
       "\n",
       "    .dataframe tbody tr th {\n",
       "        vertical-align: top;\n",
       "    }\n",
       "\n",
       "    .dataframe thead th {\n",
       "        text-align: right;\n",
       "    }\n",
       "</style>\n",
       "<table border=\"1\" class=\"dataframe\">\n",
       "  <thead>\n",
       "    <tr style=\"text-align: right;\">\n",
       "      <th></th>\n",
       "      <th>0</th>\n",
       "      <th>1</th>\n",
       "      <th>2</th>\n",
       "    </tr>\n",
       "  </thead>\n",
       "  <tbody>\n",
       "    <tr>\n",
       "      <th>0</th>\n",
       "      <td>3</td>\n",
       "      <td>2</td>\n",
       "      <td>1</td>\n",
       "    </tr>\n",
       "    <tr>\n",
       "      <th>1</th>\n",
       "      <td>6</td>\n",
       "      <td>3</td>\n",
       "      <td>2</td>\n",
       "    </tr>\n",
       "  </tbody>\n",
       "</table>\n",
       "</div>"
      ],
      "text/plain": [
       "   0  1  2\n",
       "0  3  2  1\n",
       "1  6  3  2"
      ]
     },
     "execution_count": 92,
     "metadata": {},
     "output_type": "execute_result"
    }
   ],
   "source": [
    "pd.DataFrame(array_a)"
   ]
  },
  {
   "cell_type": "code",
   "execution_count": 93,
   "metadata": {},
   "outputs": [
    {
     "data": {
      "text/plain": [
       "pandas.core.frame.DataFrame"
      ]
     },
     "execution_count": 93,
     "metadata": {},
     "output_type": "execute_result"
    }
   ],
   "source": [
    "type(pd.DataFrame(array_a))"
   ]
  },
  {
   "cell_type": "code",
   "execution_count": 94,
   "metadata": {},
   "outputs": [
    {
     "data": {
      "text/html": [
       "<div>\n",
       "<style scoped>\n",
       "    .dataframe tbody tr th:only-of-type {\n",
       "        vertical-align: middle;\n",
       "    }\n",
       "\n",
       "    .dataframe tbody tr th {\n",
       "        vertical-align: top;\n",
       "    }\n",
       "\n",
       "    .dataframe thead th {\n",
       "        text-align: right;\n",
       "    }\n",
       "</style>\n",
       "<table border=\"1\" class=\"dataframe\">\n",
       "  <thead>\n",
       "    <tr style=\"text-align: right;\">\n",
       "      <th></th>\n",
       "      <th>Column 1</th>\n",
       "      <th>Column 2</th>\n",
       "      <th>Column 3</th>\n",
       "    </tr>\n",
       "  </thead>\n",
       "  <tbody>\n",
       "    <tr>\n",
       "      <th>Row 1</th>\n",
       "      <td>3</td>\n",
       "      <td>2</td>\n",
       "      <td>1</td>\n",
       "    </tr>\n",
       "    <tr>\n",
       "      <th>Row 2</th>\n",
       "      <td>6</td>\n",
       "      <td>3</td>\n",
       "      <td>2</td>\n",
       "    </tr>\n",
       "  </tbody>\n",
       "</table>\n",
       "</div>"
      ],
      "text/plain": [
       "       Column 1  Column 2  Column 3\n",
       "Row 1         3         2         1\n",
       "Row 2         6         3         2"
      ]
     },
     "execution_count": 94,
     "metadata": {},
     "output_type": "execute_result"
    }
   ],
   "source": [
    "df = pd.DataFrame(array_a, columns = ['Column 1', 'Column 2', 'Column 3'], index = ['Row 1', 'Row 2'])\n",
    "df"
   ]
  },
  {
   "cell_type": "code",
   "execution_count": 95,
   "metadata": {},
   "outputs": [
    {
     "data": {
      "text/html": [
       "<div>\n",
       "<style scoped>\n",
       "    .dataframe tbody tr th:only-of-type {\n",
       "        vertical-align: middle;\n",
       "    }\n",
       "\n",
       "    .dataframe tbody tr th {\n",
       "        vertical-align: top;\n",
       "    }\n",
       "\n",
       "    .dataframe thead th {\n",
       "        text-align: right;\n",
       "    }\n",
       "</style>\n",
       "<table border=\"1\" class=\"dataframe\">\n",
       "  <thead>\n",
       "    <tr style=\"text-align: right;\">\n",
       "      <th></th>\n",
       "      <th>StringID</th>\n",
       "      <th>Product</th>\n",
       "      <th>CustomerGender</th>\n",
       "      <th>Location</th>\n",
       "      <th>Region</th>\n",
       "      <th>TotalPrice</th>\n",
       "      <th>StartDate</th>\n",
       "      <th>Deposit</th>\n",
       "      <th>DailyRate</th>\n",
       "      <th>TotalDaysYr</th>\n",
       "      <th>AmtPaid36</th>\n",
       "      <th>AmtPaid60</th>\n",
       "      <th>AmtPaid360</th>\n",
       "      <th>LoanStatus</th>\n",
       "    </tr>\n",
       "    <tr>\n",
       "      <th>LoanID</th>\n",
       "      <th></th>\n",
       "      <th></th>\n",
       "      <th></th>\n",
       "      <th></th>\n",
       "      <th></th>\n",
       "      <th></th>\n",
       "      <th></th>\n",
       "      <th></th>\n",
       "      <th></th>\n",
       "      <th></th>\n",
       "      <th></th>\n",
       "      <th></th>\n",
       "      <th></th>\n",
       "      <th></th>\n",
       "    </tr>\n",
       "  </thead>\n",
       "  <tbody>\n",
       "    <tr>\n",
       "      <th>1</th>\n",
       "      <td>LoanID_1</td>\n",
       "      <td>Product B</td>\n",
       "      <td>Female</td>\n",
       "      <td>Location 3</td>\n",
       "      <td>Region 2</td>\n",
       "      <td>17600.0</td>\n",
       "      <td>04/07/2018</td>\n",
       "      <td>2200</td>\n",
       "      <td>45</td>\n",
       "      <td>365</td>\n",
       "      <td>3221</td>\n",
       "      <td>4166</td>\n",
       "      <td>14621</td>\n",
       "      <td>Active</td>\n",
       "    </tr>\n",
       "    <tr>\n",
       "      <th>2</th>\n",
       "      <td>LoanID_2</td>\n",
       "      <td>Product D</td>\n",
       "      <td>Female</td>\n",
       "      <td>Location 6</td>\n",
       "      <td>Region 6</td>\n",
       "      <td>NaN</td>\n",
       "      <td>02/01/2019</td>\n",
       "      <td>2200</td>\n",
       "      <td>45</td>\n",
       "      <td>365</td>\n",
       "      <td>3161</td>\n",
       "      <td>4096</td>\n",
       "      <td>16041</td>\n",
       "      <td>Active</td>\n",
       "    </tr>\n",
       "    <tr>\n",
       "      <th>3</th>\n",
       "      <td>LoanID_3</td>\n",
       "      <td>Product B</td>\n",
       "      <td>Male</td>\n",
       "      <td>Location 8</td>\n",
       "      <td>Region 3</td>\n",
       "      <td>16600.0</td>\n",
       "      <td>08/12/2016</td>\n",
       "      <td>1000</td>\n",
       "      <td>45</td>\n",
       "      <td>365</td>\n",
       "      <td>2260</td>\n",
       "      <td>3205</td>\n",
       "      <td>16340</td>\n",
       "      <td>NaN</td>\n",
       "    </tr>\n",
       "    <tr>\n",
       "      <th>4</th>\n",
       "      <td>LoanID_4</td>\n",
       "      <td>Product A</td>\n",
       "      <td>Male</td>\n",
       "      <td>Location 26</td>\n",
       "      <td>Region 2</td>\n",
       "      <td>17600.0</td>\n",
       "      <td>NaN</td>\n",
       "      <td>2200</td>\n",
       "      <td>45</td>\n",
       "      <td>365</td>\n",
       "      <td>3141</td>\n",
       "      <td>4166</td>\n",
       "      <td>16321</td>\n",
       "      <td>Active</td>\n",
       "    </tr>\n",
       "    <tr>\n",
       "      <th>5</th>\n",
       "      <td>LoanID_5</td>\n",
       "      <td>Product B</td>\n",
       "      <td>Female</td>\n",
       "      <td>Location 34</td>\n",
       "      <td>Region 3</td>\n",
       "      <td>21250.0</td>\n",
       "      <td>28/10/2017</td>\n",
       "      <td>2200</td>\n",
       "      <td>55</td>\n",
       "      <td>365</td>\n",
       "      <td>3570</td>\n",
       "      <td>4745</td>\n",
       "      <td>14720</td>\n",
       "      <td>Active</td>\n",
       "    </tr>\n",
       "  </tbody>\n",
       "</table>\n",
       "</div>"
      ],
      "text/plain": [
       "        StringID    Product CustomerGender     Location    Region  TotalPrice  \\\n",
       "LoanID                                                                          \n",
       "1       LoanID_1  Product B         Female   Location 3  Region 2     17600.0   \n",
       "2       LoanID_2  Product D         Female   Location 6  Region 6         NaN   \n",
       "3       LoanID_3  Product B           Male   Location 8  Region 3     16600.0   \n",
       "4       LoanID_4  Product A           Male  Location 26  Region 2     17600.0   \n",
       "5       LoanID_5  Product B         Female  Location 34  Region 3     21250.0   \n",
       "\n",
       "         StartDate  Deposit  DailyRate  TotalDaysYr  AmtPaid36  AmtPaid60  \\\n",
       "LoanID                                                                      \n",
       "1       04/07/2018     2200         45          365       3221       4166   \n",
       "2       02/01/2019     2200         45          365       3161       4096   \n",
       "3       08/12/2016     1000         45          365       2260       3205   \n",
       "4              NaN     2200         45          365       3141       4166   \n",
       "5       28/10/2017     2200         55          365       3570       4745   \n",
       "\n",
       "        AmtPaid360 LoanStatus  \n",
       "LoanID                         \n",
       "1            14621     Active  \n",
       "2            16041     Active  \n",
       "3            16340        NaN  \n",
       "4            16321     Active  \n",
       "5            14720     Active  "
      ]
     },
     "execution_count": 95,
     "metadata": {},
     "output_type": "execute_result"
    }
   ],
   "source": [
    "data = pd.read_csv('Lending-company.csv', index_col = 'LoanID')\n",
    "lending_co_data = data.copy()\n",
    "lending_co_data.head()"
   ]
  },
  {
   "cell_type": "code",
   "execution_count": 96,
   "metadata": {},
   "outputs": [
    {
     "data": {
      "text/plain": [
       "pandas.core.frame.DataFrame"
      ]
     },
     "execution_count": 96,
     "metadata": {},
     "output_type": "execute_result"
    }
   ],
   "source": [
    "type(lending_co_data)"
   ]
  },
  {
   "cell_type": "code",
   "execution_count": 97,
   "metadata": {},
   "outputs": [
    {
     "data": {
      "text/plain": [
       "[Index([   1,    2,    3,    4,    5,    6,    7,    8,    9,   10,\n",
       "        ...\n",
       "        1034, 1035, 1036, 1037, 1038, 1039, 1040, 1041, 1042, 1043],\n",
       "       dtype='int64', name='LoanID', length=1043),\n",
       " Index(['StringID', 'Product', 'CustomerGender', 'Location', 'Region',\n",
       "        'TotalPrice', 'StartDate', 'Deposit', 'DailyRate', 'TotalDaysYr',\n",
       "        'AmtPaid36', 'AmtPaid60', 'AmtPaid360', 'LoanStatus'],\n",
       "       dtype='object')]"
      ]
     },
     "execution_count": 97,
     "metadata": {},
     "output_type": "execute_result"
    }
   ],
   "source": [
    "lending_co_data.axes"
   ]
  },
  {
   "cell_type": "code",
   "execution_count": 98,
   "metadata": {},
   "outputs": [
    {
     "data": {
      "text/plain": [
       "StringID           object\n",
       "Product            object\n",
       "CustomerGender     object\n",
       "Location           object\n",
       "Region             object\n",
       "TotalPrice        float64\n",
       "StartDate          object\n",
       "Deposit             int64\n",
       "DailyRate           int64\n",
       "TotalDaysYr         int64\n",
       "AmtPaid36           int64\n",
       "AmtPaid60           int64\n",
       "AmtPaid360          int64\n",
       "LoanStatus         object\n",
       "dtype: object"
      ]
     },
     "execution_count": 98,
     "metadata": {},
     "output_type": "execute_result"
    }
   ],
   "source": [
    "lending_co_data.dtypes"
   ]
  },
  {
   "cell_type": "code",
   "execution_count": 99,
   "metadata": {},
   "outputs": [
    {
     "data": {
      "text/plain": [
       "array([['LoanID_1', 'Product B', 'Female', ..., 4166, 14621, 'Active'],\n",
       "       ['LoanID_2', 'Product D', 'Female', ..., 4096, 16041, 'Active'],\n",
       "       ['LoanID_3', 'Product B', 'Male', ..., 3205, 16340, nan],\n",
       "       ...,\n",
       "       ['LoanID_1041', 'Product A', 'NotSpecified', ..., 5143, 16617,\n",
       "        'Finished Payment'],\n",
       "       ['LoanID_1042', 'Product B', 'Female', ..., 3462, 15617,\n",
       "        'Finished Payment'],\n",
       "       ['LoanID_1043', 'Product A', 'NotSpecified', ..., 4743, 16617,\n",
       "        'Finished Payment']], dtype=object)"
      ]
     },
     "execution_count": 99,
     "metadata": {},
     "output_type": "execute_result"
    }
   ],
   "source": [
    "A = lending_co_data.values\n",
    "A"
   ]
  },
  {
   "cell_type": "code",
   "execution_count": 100,
   "metadata": {},
   "outputs": [
    {
     "data": {
      "text/plain": [
       "numpy.ndarray"
      ]
     },
     "execution_count": 100,
     "metadata": {},
     "output_type": "execute_result"
    }
   ],
   "source": [
    "type(lending_co_data.values)"
   ]
  },
  {
   "cell_type": "code",
   "execution_count": 101,
   "metadata": {},
   "outputs": [
    {
     "data": {
      "text/plain": [
       "array([['LoanID_1', 'Product B', 'Female', ..., 4166, 14621, 'Active'],\n",
       "       ['LoanID_2', 'Product D', 'Female', ..., 4096, 16041, 'Active'],\n",
       "       ['LoanID_3', 'Product B', 'Male', ..., 3205, 16340, nan],\n",
       "       ...,\n",
       "       ['LoanID_1041', 'Product A', 'NotSpecified', ..., 5143, 16617,\n",
       "        'Finished Payment'],\n",
       "       ['LoanID_1042', 'Product B', 'Female', ..., 3462, 15617,\n",
       "        'Finished Payment'],\n",
       "       ['LoanID_1043', 'Product A', 'NotSpecified', ..., 4743, 16617,\n",
       "        'Finished Payment']], dtype=object)"
      ]
     },
     "execution_count": 101,
     "metadata": {},
     "output_type": "execute_result"
    }
   ],
   "source": [
    "B = lending_co_data.to_numpy()\n",
    "B"
   ]
  },
  {
   "cell_type": "code",
   "execution_count": 102,
   "metadata": {},
   "outputs": [
    {
     "data": {
      "text/plain": [
       "numpy.ndarray"
      ]
     },
     "execution_count": 102,
     "metadata": {},
     "output_type": "execute_result"
    }
   ],
   "source": [
    "type(lending_co_data.to_numpy())"
   ]
  },
  {
   "cell_type": "code",
   "execution_count": 103,
   "metadata": {},
   "outputs": [
    {
     "data": {
      "text/plain": [
       "(1043, 14)"
      ]
     },
     "execution_count": 103,
     "metadata": {},
     "output_type": "execute_result"
    }
   ],
   "source": [
    "lending_co_data.shape"
   ]
  },
  {
   "cell_type": "code",
   "execution_count": 104,
   "metadata": {},
   "outputs": [
    {
     "data": {
      "text/plain": [
       "14"
      ]
     },
     "execution_count": 104,
     "metadata": {},
     "output_type": "execute_result"
    }
   ],
   "source": [
    "len(lending_co_data.columns)"
   ]
  },
  {
   "cell_type": "code",
   "execution_count": 105,
   "metadata": {},
   "outputs": [
    {
     "data": {
      "text/html": [
       "<div>\n",
       "<style scoped>\n",
       "    .dataframe tbody tr th:only-of-type {\n",
       "        vertical-align: middle;\n",
       "    }\n",
       "\n",
       "    .dataframe tbody tr th {\n",
       "        vertical-align: top;\n",
       "    }\n",
       "\n",
       "    .dataframe thead th {\n",
       "        text-align: right;\n",
       "    }\n",
       "</style>\n",
       "<table border=\"1\" class=\"dataframe\">\n",
       "  <thead>\n",
       "    <tr style=\"text-align: right;\">\n",
       "      <th></th>\n",
       "      <th>LoanID</th>\n",
       "      <th>Product</th>\n",
       "      <th>CustomerGender</th>\n",
       "      <th>Location</th>\n",
       "      <th>Region</th>\n",
       "      <th>TotalPrice</th>\n",
       "      <th>StartDate</th>\n",
       "      <th>Deposit</th>\n",
       "      <th>DailyRate</th>\n",
       "      <th>TotalDaysYr</th>\n",
       "      <th>AmtPaid36</th>\n",
       "      <th>AmtPaid60</th>\n",
       "      <th>AmtPaid360</th>\n",
       "      <th>LoanStatus</th>\n",
       "    </tr>\n",
       "    <tr>\n",
       "      <th>StringID</th>\n",
       "      <th></th>\n",
       "      <th></th>\n",
       "      <th></th>\n",
       "      <th></th>\n",
       "      <th></th>\n",
       "      <th></th>\n",
       "      <th></th>\n",
       "      <th></th>\n",
       "      <th></th>\n",
       "      <th></th>\n",
       "      <th></th>\n",
       "      <th></th>\n",
       "      <th></th>\n",
       "      <th></th>\n",
       "    </tr>\n",
       "  </thead>\n",
       "  <tbody>\n",
       "    <tr>\n",
       "      <th>LoanID_1</th>\n",
       "      <td>1</td>\n",
       "      <td>Product B</td>\n",
       "      <td>Female</td>\n",
       "      <td>Location 3</td>\n",
       "      <td>Region 2</td>\n",
       "      <td>17600.0</td>\n",
       "      <td>04/07/2018</td>\n",
       "      <td>2200</td>\n",
       "      <td>45</td>\n",
       "      <td>365</td>\n",
       "      <td>3221</td>\n",
       "      <td>4166</td>\n",
       "      <td>14621</td>\n",
       "      <td>Active</td>\n",
       "    </tr>\n",
       "    <tr>\n",
       "      <th>LoanID_2</th>\n",
       "      <td>2</td>\n",
       "      <td>Product D</td>\n",
       "      <td>Female</td>\n",
       "      <td>Location 6</td>\n",
       "      <td>Region 6</td>\n",
       "      <td>NaN</td>\n",
       "      <td>02/01/2019</td>\n",
       "      <td>2200</td>\n",
       "      <td>45</td>\n",
       "      <td>365</td>\n",
       "      <td>3161</td>\n",
       "      <td>4096</td>\n",
       "      <td>16041</td>\n",
       "      <td>Active</td>\n",
       "    </tr>\n",
       "    <tr>\n",
       "      <th>LoanID_3</th>\n",
       "      <td>3</td>\n",
       "      <td>Product B</td>\n",
       "      <td>Male</td>\n",
       "      <td>Location 8</td>\n",
       "      <td>Region 3</td>\n",
       "      <td>16600.0</td>\n",
       "      <td>08/12/2016</td>\n",
       "      <td>1000</td>\n",
       "      <td>45</td>\n",
       "      <td>365</td>\n",
       "      <td>2260</td>\n",
       "      <td>3205</td>\n",
       "      <td>16340</td>\n",
       "      <td>NaN</td>\n",
       "    </tr>\n",
       "    <tr>\n",
       "      <th>LoanID_4</th>\n",
       "      <td>4</td>\n",
       "      <td>Product A</td>\n",
       "      <td>Male</td>\n",
       "      <td>Location 26</td>\n",
       "      <td>Region 2</td>\n",
       "      <td>17600.0</td>\n",
       "      <td>NaN</td>\n",
       "      <td>2200</td>\n",
       "      <td>45</td>\n",
       "      <td>365</td>\n",
       "      <td>3141</td>\n",
       "      <td>4166</td>\n",
       "      <td>16321</td>\n",
       "      <td>Active</td>\n",
       "    </tr>\n",
       "    <tr>\n",
       "      <th>LoanID_5</th>\n",
       "      <td>5</td>\n",
       "      <td>Product B</td>\n",
       "      <td>Female</td>\n",
       "      <td>Location 34</td>\n",
       "      <td>Region 3</td>\n",
       "      <td>21250.0</td>\n",
       "      <td>28/10/2017</td>\n",
       "      <td>2200</td>\n",
       "      <td>55</td>\n",
       "      <td>365</td>\n",
       "      <td>3570</td>\n",
       "      <td>4745</td>\n",
       "      <td>14720</td>\n",
       "      <td>Active</td>\n",
       "    </tr>\n",
       "  </tbody>\n",
       "</table>\n",
       "</div>"
      ],
      "text/plain": [
       "          LoanID    Product CustomerGender     Location    Region  TotalPrice  \\\n",
       "StringID                                                                        \n",
       "LoanID_1       1  Product B         Female   Location 3  Region 2     17600.0   \n",
       "LoanID_2       2  Product D         Female   Location 6  Region 6         NaN   \n",
       "LoanID_3       3  Product B           Male   Location 8  Region 3     16600.0   \n",
       "LoanID_4       4  Product A           Male  Location 26  Region 2     17600.0   \n",
       "LoanID_5       5  Product B         Female  Location 34  Region 3     21250.0   \n",
       "\n",
       "           StartDate  Deposit  DailyRate  TotalDaysYr  AmtPaid36  AmtPaid60  \\\n",
       "StringID                                                                      \n",
       "LoanID_1  04/07/2018     2200         45          365       3221       4166   \n",
       "LoanID_2  02/01/2019     2200         45          365       3161       4096   \n",
       "LoanID_3  08/12/2016     1000         45          365       2260       3205   \n",
       "LoanID_4         NaN     2200         45          365       3141       4166   \n",
       "LoanID_5  28/10/2017     2200         55          365       3570       4745   \n",
       "\n",
       "          AmtPaid360 LoanStatus  \n",
       "StringID                         \n",
       "LoanID_1       14621     Active  \n",
       "LoanID_2       16041     Active  \n",
       "LoanID_3       16340        NaN  \n",
       "LoanID_4       16321     Active  \n",
       "LoanID_5       14720     Active  "
      ]
     },
     "execution_count": 105,
     "metadata": {},
     "output_type": "execute_result"
    }
   ],
   "source": [
    "data = pd.read_csv('Lending-company.csv', index_col = 'StringID')\n",
    "lending_co_data = data.copy()\n",
    "lending_co_data.head()"
   ]
  },
  {
   "cell_type": "code",
   "execution_count": 106,
   "metadata": {},
   "outputs": [
    {
     "data": {
      "text/plain": [
       "StringID\n",
       "LoanID_1       Product B\n",
       "LoanID_2       Product D\n",
       "LoanID_3       Product B\n",
       "LoanID_4       Product A\n",
       "LoanID_5       Product B\n",
       "                 ...    \n",
       "LoanID_1039    Product B\n",
       "LoanID_1040    Product A\n",
       "LoanID_1041    Product A\n",
       "LoanID_1042    Product B\n",
       "LoanID_1043    Product A\n",
       "Name: Product, Length: 1043, dtype: object"
      ]
     },
     "execution_count": 106,
     "metadata": {},
     "output_type": "execute_result"
    }
   ],
   "source": [
    "lending_co_data.Product"
   ]
  },
  {
   "cell_type": "code",
   "execution_count": 107,
   "metadata": {},
   "outputs": [
    {
     "data": {
      "text/plain": [
       "StringID\n",
       "LoanID_1        Location 3\n",
       "LoanID_2        Location 6\n",
       "LoanID_3        Location 8\n",
       "LoanID_4       Location 26\n",
       "LoanID_5       Location 34\n",
       "                  ...     \n",
       "LoanID_1039    Location 73\n",
       "LoanID_1040    Location 82\n",
       "LoanID_1041    Location 11\n",
       "LoanID_1042    Location 26\n",
       "LoanID_1043    Location 94\n",
       "Name: Location, Length: 1043, dtype: object"
      ]
     },
     "execution_count": 107,
     "metadata": {},
     "output_type": "execute_result"
    }
   ],
   "source": [
    "lending_co_data.Location"
   ]
  },
  {
   "cell_type": "code",
   "execution_count": 108,
   "metadata": {},
   "outputs": [
    {
     "data": {
      "text/plain": [
       "StringID\n",
       "LoanID_1       Product B\n",
       "LoanID_2       Product D\n",
       "LoanID_3       Product B\n",
       "LoanID_4       Product A\n",
       "LoanID_5       Product B\n",
       "                 ...    \n",
       "LoanID_1039    Product B\n",
       "LoanID_1040    Product A\n",
       "LoanID_1041    Product A\n",
       "LoanID_1042    Product B\n",
       "LoanID_1043    Product A\n",
       "Name: Product, Length: 1043, dtype: object"
      ]
     },
     "execution_count": 108,
     "metadata": {},
     "output_type": "execute_result"
    }
   ],
   "source": [
    "lending_co_data['Product']"
   ]
  },
  {
   "cell_type": "code",
   "execution_count": 109,
   "metadata": {},
   "outputs": [
    {
     "data": {
      "text/plain": [
       "StringID\n",
       "LoanID_1        Location 3\n",
       "LoanID_2        Location 6\n",
       "LoanID_3        Location 8\n",
       "LoanID_4       Location 26\n",
       "LoanID_5       Location 34\n",
       "                  ...     \n",
       "LoanID_1039    Location 73\n",
       "LoanID_1040    Location 82\n",
       "LoanID_1041    Location 11\n",
       "LoanID_1042    Location 26\n",
       "LoanID_1043    Location 94\n",
       "Name: Location, Length: 1043, dtype: object"
      ]
     },
     "execution_count": 109,
     "metadata": {},
     "output_type": "execute_result"
    }
   ],
   "source": [
    "lending_co_data['Location']"
   ]
  },
  {
   "cell_type": "code",
   "execution_count": 110,
   "metadata": {},
   "outputs": [
    {
     "data": {
      "text/html": [
       "<div>\n",
       "<style scoped>\n",
       "    .dataframe tbody tr th:only-of-type {\n",
       "        vertical-align: middle;\n",
       "    }\n",
       "\n",
       "    .dataframe tbody tr th {\n",
       "        vertical-align: top;\n",
       "    }\n",
       "\n",
       "    .dataframe thead th {\n",
       "        text-align: right;\n",
       "    }\n",
       "</style>\n",
       "<table border=\"1\" class=\"dataframe\">\n",
       "  <thead>\n",
       "    <tr style=\"text-align: right;\">\n",
       "      <th></th>\n",
       "      <th>Location</th>\n",
       "      <th>Product</th>\n",
       "    </tr>\n",
       "    <tr>\n",
       "      <th>StringID</th>\n",
       "      <th></th>\n",
       "      <th></th>\n",
       "    </tr>\n",
       "  </thead>\n",
       "  <tbody>\n",
       "    <tr>\n",
       "      <th>LoanID_1</th>\n",
       "      <td>Location 3</td>\n",
       "      <td>Product B</td>\n",
       "    </tr>\n",
       "    <tr>\n",
       "      <th>LoanID_2</th>\n",
       "      <td>Location 6</td>\n",
       "      <td>Product D</td>\n",
       "    </tr>\n",
       "    <tr>\n",
       "      <th>LoanID_3</th>\n",
       "      <td>Location 8</td>\n",
       "      <td>Product B</td>\n",
       "    </tr>\n",
       "    <tr>\n",
       "      <th>LoanID_4</th>\n",
       "      <td>Location 26</td>\n",
       "      <td>Product A</td>\n",
       "    </tr>\n",
       "    <tr>\n",
       "      <th>LoanID_5</th>\n",
       "      <td>Location 34</td>\n",
       "      <td>Product B</td>\n",
       "    </tr>\n",
       "    <tr>\n",
       "      <th>...</th>\n",
       "      <td>...</td>\n",
       "      <td>...</td>\n",
       "    </tr>\n",
       "    <tr>\n",
       "      <th>LoanID_1039</th>\n",
       "      <td>Location 73</td>\n",
       "      <td>Product B</td>\n",
       "    </tr>\n",
       "    <tr>\n",
       "      <th>LoanID_1040</th>\n",
       "      <td>Location 82</td>\n",
       "      <td>Product A</td>\n",
       "    </tr>\n",
       "    <tr>\n",
       "      <th>LoanID_1041</th>\n",
       "      <td>Location 11</td>\n",
       "      <td>Product A</td>\n",
       "    </tr>\n",
       "    <tr>\n",
       "      <th>LoanID_1042</th>\n",
       "      <td>Location 26</td>\n",
       "      <td>Product B</td>\n",
       "    </tr>\n",
       "    <tr>\n",
       "      <th>LoanID_1043</th>\n",
       "      <td>Location 94</td>\n",
       "      <td>Product A</td>\n",
       "    </tr>\n",
       "  </tbody>\n",
       "</table>\n",
       "<p>1043 rows × 2 columns</p>\n",
       "</div>"
      ],
      "text/plain": [
       "                Location    Product\n",
       "StringID                           \n",
       "LoanID_1      Location 3  Product B\n",
       "LoanID_2      Location 6  Product D\n",
       "LoanID_3      Location 8  Product B\n",
       "LoanID_4     Location 26  Product A\n",
       "LoanID_5     Location 34  Product B\n",
       "...                  ...        ...\n",
       "LoanID_1039  Location 73  Product B\n",
       "LoanID_1040  Location 82  Product A\n",
       "LoanID_1041  Location 11  Product A\n",
       "LoanID_1042  Location 26  Product B\n",
       "LoanID_1043  Location 94  Product A\n",
       "\n",
       "[1043 rows x 2 columns]"
      ]
     },
     "execution_count": 110,
     "metadata": {},
     "output_type": "execute_result"
    }
   ],
   "source": [
    "lending_co_data[['Location','Product']]"
   ]
  },
  {
   "cell_type": "code",
   "execution_count": 111,
   "metadata": {},
   "outputs": [
    {
     "data": {
      "text/plain": [
       "pandas.core.frame.DataFrame"
      ]
     },
     "execution_count": 111,
     "metadata": {},
     "output_type": "execute_result"
    }
   ],
   "source": [
    "type(lending_co_data[['Location']])"
   ]
  },
  {
   "cell_type": "code",
   "execution_count": 112,
   "metadata": {},
   "outputs": [
    {
     "data": {
      "text/html": [
       "<div>\n",
       "<style scoped>\n",
       "    .dataframe tbody tr th:only-of-type {\n",
       "        vertical-align: middle;\n",
       "    }\n",
       "\n",
       "    .dataframe tbody tr th {\n",
       "        vertical-align: top;\n",
       "    }\n",
       "\n",
       "    .dataframe thead th {\n",
       "        text-align: right;\n",
       "    }\n",
       "</style>\n",
       "<table border=\"1\" class=\"dataframe\">\n",
       "  <thead>\n",
       "    <tr style=\"text-align: right;\">\n",
       "      <th></th>\n",
       "      <th>Location</th>\n",
       "      <th>Product</th>\n",
       "    </tr>\n",
       "    <tr>\n",
       "      <th>StringID</th>\n",
       "      <th></th>\n",
       "      <th></th>\n",
       "    </tr>\n",
       "  </thead>\n",
       "  <tbody>\n",
       "    <tr>\n",
       "      <th>LoanID_1</th>\n",
       "      <td>Location 3</td>\n",
       "      <td>Product B</td>\n",
       "    </tr>\n",
       "    <tr>\n",
       "      <th>LoanID_2</th>\n",
       "      <td>Location 6</td>\n",
       "      <td>Product D</td>\n",
       "    </tr>\n",
       "    <tr>\n",
       "      <th>LoanID_3</th>\n",
       "      <td>Location 8</td>\n",
       "      <td>Product B</td>\n",
       "    </tr>\n",
       "    <tr>\n",
       "      <th>LoanID_4</th>\n",
       "      <td>Location 26</td>\n",
       "      <td>Product A</td>\n",
       "    </tr>\n",
       "    <tr>\n",
       "      <th>LoanID_5</th>\n",
       "      <td>Location 34</td>\n",
       "      <td>Product B</td>\n",
       "    </tr>\n",
       "  </tbody>\n",
       "</table>\n",
       "</div>"
      ],
      "text/plain": [
       "             Location    Product\n",
       "StringID                        \n",
       "LoanID_1   Location 3  Product B\n",
       "LoanID_2   Location 6  Product D\n",
       "LoanID_3   Location 8  Product B\n",
       "LoanID_4  Location 26  Product A\n",
       "LoanID_5  Location 34  Product B"
      ]
     },
     "execution_count": 112,
     "metadata": {},
     "output_type": "execute_result"
    }
   ],
   "source": [
    "prod_loc = ['Location', 'Product']\n",
    "lending_co_data[prod_loc].head()"
   ]
  },
  {
   "cell_type": "code",
   "execution_count": 113,
   "metadata": {},
   "outputs": [
    {
     "data": {
      "text/plain": [
       "LoanID                     2\n",
       "Product            Product D\n",
       "CustomerGender        Female\n",
       "Location          Location 6\n",
       "Region              Region 6\n",
       "TotalPrice               NaN\n",
       "StartDate         02/01/2019\n",
       "Deposit                 2200\n",
       "DailyRate                 45\n",
       "TotalDaysYr              365\n",
       "AmtPaid36               3161\n",
       "AmtPaid60               4096\n",
       "AmtPaid360             16041\n",
       "LoanStatus            Active\n",
       "Name: LoanID_2, dtype: object"
      ]
     },
     "execution_count": 113,
     "metadata": {},
     "output_type": "execute_result"
    }
   ],
   "source": [
    "lending_co_data.iloc[1]"
   ]
  },
  {
   "cell_type": "code",
   "execution_count": 114,
   "metadata": {},
   "outputs": [
    {
     "data": {
      "text/plain": [
       "'Location 6'"
      ]
     },
     "execution_count": 114,
     "metadata": {},
     "output_type": "execute_result"
    }
   ],
   "source": [
    "lending_co_data.iloc[1, 3]"
   ]
  },
  {
   "cell_type": "code",
   "execution_count": 115,
   "metadata": {},
   "outputs": [
    {
     "data": {
      "text/plain": [
       "LoanID                     2\n",
       "Product            Product D\n",
       "CustomerGender        Female\n",
       "Location          Location 6\n",
       "Region              Region 6\n",
       "TotalPrice               NaN\n",
       "StartDate         02/01/2019\n",
       "Deposit                 2200\n",
       "DailyRate                 45\n",
       "TotalDaysYr              365\n",
       "AmtPaid36               3161\n",
       "AmtPaid60               4096\n",
       "AmtPaid360             16041\n",
       "LoanStatus            Active\n",
       "Name: LoanID_2, dtype: object"
      ]
     },
     "execution_count": 115,
     "metadata": {},
     "output_type": "execute_result"
    }
   ],
   "source": [
    "lending_co_data.iloc[1, :]"
   ]
  },
  {
   "cell_type": "code",
   "execution_count": 116,
   "metadata": {},
   "outputs": [
    {
     "data": {
      "text/plain": [
       "StringID\n",
       "LoanID_1        Location 3\n",
       "LoanID_2        Location 6\n",
       "LoanID_3        Location 8\n",
       "LoanID_4       Location 26\n",
       "LoanID_5       Location 34\n",
       "                  ...     \n",
       "LoanID_1039    Location 73\n",
       "LoanID_1040    Location 82\n",
       "LoanID_1041    Location 11\n",
       "LoanID_1042    Location 26\n",
       "LoanID_1043    Location 94\n",
       "Name: Location, Length: 1043, dtype: object"
      ]
     },
     "execution_count": 116,
     "metadata": {},
     "output_type": "execute_result"
    }
   ],
   "source": [
    "lending_co_data.iloc[:, 3]"
   ]
  },
  {
   "cell_type": "code",
   "execution_count": 117,
   "metadata": {},
   "outputs": [
    {
     "data": {
      "text/html": [
       "<div>\n",
       "<style scoped>\n",
       "    .dataframe tbody tr th:only-of-type {\n",
       "        vertical-align: middle;\n",
       "    }\n",
       "\n",
       "    .dataframe tbody tr th {\n",
       "        vertical-align: top;\n",
       "    }\n",
       "\n",
       "    .dataframe thead th {\n",
       "        text-align: right;\n",
       "    }\n",
       "</style>\n",
       "<table border=\"1\" class=\"dataframe\">\n",
       "  <thead>\n",
       "    <tr style=\"text-align: right;\">\n",
       "      <th></th>\n",
       "      <th>LoanID</th>\n",
       "      <th>Product</th>\n",
       "      <th>CustomerGender</th>\n",
       "      <th>Location</th>\n",
       "      <th>Region</th>\n",
       "      <th>TotalPrice</th>\n",
       "      <th>StartDate</th>\n",
       "      <th>Deposit</th>\n",
       "      <th>DailyRate</th>\n",
       "      <th>TotalDaysYr</th>\n",
       "      <th>AmtPaid36</th>\n",
       "      <th>AmtPaid60</th>\n",
       "      <th>AmtPaid360</th>\n",
       "      <th>LoanStatus</th>\n",
       "    </tr>\n",
       "    <tr>\n",
       "      <th>StringID</th>\n",
       "      <th></th>\n",
       "      <th></th>\n",
       "      <th></th>\n",
       "      <th></th>\n",
       "      <th></th>\n",
       "      <th></th>\n",
       "      <th></th>\n",
       "      <th></th>\n",
       "      <th></th>\n",
       "      <th></th>\n",
       "      <th></th>\n",
       "      <th></th>\n",
       "      <th></th>\n",
       "      <th></th>\n",
       "    </tr>\n",
       "  </thead>\n",
       "  <tbody>\n",
       "    <tr>\n",
       "      <th>LoanID_2</th>\n",
       "      <td>2</td>\n",
       "      <td>Product D</td>\n",
       "      <td>Female</td>\n",
       "      <td>Location 6</td>\n",
       "      <td>Region 6</td>\n",
       "      <td>NaN</td>\n",
       "      <td>02/01/2019</td>\n",
       "      <td>2200</td>\n",
       "      <td>45</td>\n",
       "      <td>365</td>\n",
       "      <td>3161</td>\n",
       "      <td>4096</td>\n",
       "      <td>16041</td>\n",
       "      <td>Active</td>\n",
       "    </tr>\n",
       "    <tr>\n",
       "      <th>LoanID_4</th>\n",
       "      <td>4</td>\n",
       "      <td>Product A</td>\n",
       "      <td>Male</td>\n",
       "      <td>Location 26</td>\n",
       "      <td>Region 2</td>\n",
       "      <td>17600.0</td>\n",
       "      <td>NaN</td>\n",
       "      <td>2200</td>\n",
       "      <td>45</td>\n",
       "      <td>365</td>\n",
       "      <td>3141</td>\n",
       "      <td>4166</td>\n",
       "      <td>16321</td>\n",
       "      <td>Active</td>\n",
       "    </tr>\n",
       "  </tbody>\n",
       "</table>\n",
       "</div>"
      ],
      "text/plain": [
       "          LoanID    Product CustomerGender     Location    Region  TotalPrice  \\\n",
       "StringID                                                                        \n",
       "LoanID_2       2  Product D         Female   Location 6  Region 6         NaN   \n",
       "LoanID_4       4  Product A           Male  Location 26  Region 2     17600.0   \n",
       "\n",
       "           StartDate  Deposit  DailyRate  TotalDaysYr  AmtPaid36  AmtPaid60  \\\n",
       "StringID                                                                      \n",
       "LoanID_2  02/01/2019     2200         45          365       3161       4096   \n",
       "LoanID_4         NaN     2200         45          365       3141       4166   \n",
       "\n",
       "          AmtPaid360 LoanStatus  \n",
       "StringID                         \n",
       "LoanID_2       16041     Active  \n",
       "LoanID_4       16321     Active  "
      ]
     },
     "execution_count": 117,
     "metadata": {},
     "output_type": "execute_result"
    }
   ],
   "source": [
    "lending_co_data.iloc[[1, 3], :]"
   ]
  },
  {
   "cell_type": "code",
   "execution_count": 118,
   "metadata": {},
   "outputs": [
    {
     "data": {
      "text/html": [
       "<div>\n",
       "<style scoped>\n",
       "    .dataframe tbody tr th:only-of-type {\n",
       "        vertical-align: middle;\n",
       "    }\n",
       "\n",
       "    .dataframe tbody tr th {\n",
       "        vertical-align: top;\n",
       "    }\n",
       "\n",
       "    .dataframe thead th {\n",
       "        text-align: right;\n",
       "    }\n",
       "</style>\n",
       "<table border=\"1\" class=\"dataframe\">\n",
       "  <thead>\n",
       "    <tr style=\"text-align: right;\">\n",
       "      <th></th>\n",
       "      <th>Location</th>\n",
       "      <th>Product</th>\n",
       "    </tr>\n",
       "    <tr>\n",
       "      <th>StringID</th>\n",
       "      <th></th>\n",
       "      <th></th>\n",
       "    </tr>\n",
       "  </thead>\n",
       "  <tbody>\n",
       "    <tr>\n",
       "      <th>LoanID_1</th>\n",
       "      <td>Location 3</td>\n",
       "      <td>Product B</td>\n",
       "    </tr>\n",
       "    <tr>\n",
       "      <th>LoanID_2</th>\n",
       "      <td>Location 6</td>\n",
       "      <td>Product D</td>\n",
       "    </tr>\n",
       "    <tr>\n",
       "      <th>LoanID_3</th>\n",
       "      <td>Location 8</td>\n",
       "      <td>Product B</td>\n",
       "    </tr>\n",
       "    <tr>\n",
       "      <th>LoanID_4</th>\n",
       "      <td>Location 26</td>\n",
       "      <td>Product A</td>\n",
       "    </tr>\n",
       "    <tr>\n",
       "      <th>LoanID_5</th>\n",
       "      <td>Location 34</td>\n",
       "      <td>Product B</td>\n",
       "    </tr>\n",
       "    <tr>\n",
       "      <th>...</th>\n",
       "      <td>...</td>\n",
       "      <td>...</td>\n",
       "    </tr>\n",
       "    <tr>\n",
       "      <th>LoanID_1039</th>\n",
       "      <td>Location 73</td>\n",
       "      <td>Product B</td>\n",
       "    </tr>\n",
       "    <tr>\n",
       "      <th>LoanID_1040</th>\n",
       "      <td>Location 82</td>\n",
       "      <td>Product A</td>\n",
       "    </tr>\n",
       "    <tr>\n",
       "      <th>LoanID_1041</th>\n",
       "      <td>Location 11</td>\n",
       "      <td>Product A</td>\n",
       "    </tr>\n",
       "    <tr>\n",
       "      <th>LoanID_1042</th>\n",
       "      <td>Location 26</td>\n",
       "      <td>Product B</td>\n",
       "    </tr>\n",
       "    <tr>\n",
       "      <th>LoanID_1043</th>\n",
       "      <td>Location 94</td>\n",
       "      <td>Product A</td>\n",
       "    </tr>\n",
       "  </tbody>\n",
       "</table>\n",
       "<p>1043 rows × 2 columns</p>\n",
       "</div>"
      ],
      "text/plain": [
       "                Location    Product\n",
       "StringID                           \n",
       "LoanID_1      Location 3  Product B\n",
       "LoanID_2      Location 6  Product D\n",
       "LoanID_3      Location 8  Product B\n",
       "LoanID_4     Location 26  Product A\n",
       "LoanID_5     Location 34  Product B\n",
       "...                  ...        ...\n",
       "LoanID_1039  Location 73  Product B\n",
       "LoanID_1040  Location 82  Product A\n",
       "LoanID_1041  Location 11  Product A\n",
       "LoanID_1042  Location 26  Product B\n",
       "LoanID_1043  Location 94  Product A\n",
       "\n",
       "[1043 rows x 2 columns]"
      ]
     },
     "execution_count": 118,
     "metadata": {},
     "output_type": "execute_result"
    }
   ],
   "source": [
    "lending_co_data.iloc[:, [3, 1]]"
   ]
  },
  {
   "cell_type": "code",
   "execution_count": 119,
   "metadata": {},
   "outputs": [
    {
     "data": {
      "text/plain": [
       "LoanID                     3\n",
       "Product            Product B\n",
       "CustomerGender          Male\n",
       "Location          Location 8\n",
       "Region              Region 3\n",
       "TotalPrice           16600.0\n",
       "StartDate         08/12/2016\n",
       "Deposit                 1000\n",
       "DailyRate                 45\n",
       "TotalDaysYr              365\n",
       "AmtPaid36               2260\n",
       "AmtPaid60               3205\n",
       "AmtPaid360             16340\n",
       "LoanStatus               NaN\n",
       "Name: LoanID_3, dtype: object"
      ]
     },
     "execution_count": 119,
     "metadata": {},
     "output_type": "execute_result"
    }
   ],
   "source": [
    "lending_co_data.loc['LoanID_3']"
   ]
  },
  {
   "cell_type": "code",
   "execution_count": 120,
   "metadata": {},
   "outputs": [
    {
     "data": {
      "text/plain": [
       "LoanID                     3\n",
       "Product            Product B\n",
       "CustomerGender          Male\n",
       "Location          Location 8\n",
       "Region              Region 3\n",
       "TotalPrice           16600.0\n",
       "StartDate         08/12/2016\n",
       "Deposit                 1000\n",
       "DailyRate                 45\n",
       "TotalDaysYr              365\n",
       "AmtPaid36               2260\n",
       "AmtPaid60               3205\n",
       "AmtPaid360             16340\n",
       "LoanStatus               NaN\n",
       "Name: LoanID_3, dtype: object"
      ]
     },
     "execution_count": 120,
     "metadata": {},
     "output_type": "execute_result"
    }
   ],
   "source": [
    "lending_co_data.loc['LoanID_3', :]"
   ]
  },
  {
   "cell_type": "code",
   "execution_count": 121,
   "metadata": {},
   "outputs": [
    {
     "data": {
      "text/plain": [
       "'Region 3'"
      ]
     },
     "execution_count": 121,
     "metadata": {},
     "output_type": "execute_result"
    }
   ],
   "source": [
    "lending_co_data.loc['LoanID_3', 'Region']"
   ]
  },
  {
   "cell_type": "code",
   "execution_count": 122,
   "metadata": {},
   "outputs": [
    {
     "data": {
      "text/plain": [
       "StringID\n",
       "LoanID_1        Location 3\n",
       "LoanID_2        Location 6\n",
       "LoanID_3        Location 8\n",
       "LoanID_4       Location 26\n",
       "LoanID_5       Location 34\n",
       "                  ...     \n",
       "LoanID_1039    Location 73\n",
       "LoanID_1040    Location 82\n",
       "LoanID_1041    Location 11\n",
       "LoanID_1042    Location 26\n",
       "LoanID_1043    Location 94\n",
       "Name: Location, Length: 1043, dtype: object"
      ]
     },
     "execution_count": 122,
     "metadata": {},
     "output_type": "execute_result"
    }
   ],
   "source": [
    "lending_co_data['Location']"
   ]
  },
  {
   "cell_type": "code",
   "execution_count": 123,
   "metadata": {},
   "outputs": [
    {
     "data": {
      "text/plain": [
       "StringID\n",
       "LoanID_1        Location 3\n",
       "LoanID_2        Location 6\n",
       "LoanID_3        Location 8\n",
       "LoanID_4       Location 26\n",
       "LoanID_5       Location 34\n",
       "                  ...     \n",
       "LoanID_1039    Location 73\n",
       "LoanID_1040    Location 82\n",
       "LoanID_1041    Location 11\n",
       "LoanID_1042    Location 26\n",
       "LoanID_1043    Location 94\n",
       "Name: Location, Length: 1043, dtype: object"
      ]
     },
     "execution_count": 123,
     "metadata": {},
     "output_type": "execute_result"
    }
   ],
   "source": [
    "lending_co_data.loc[:, 'Location']"
   ]
  },
  {
   "cell_type": "code",
   "execution_count": 124,
   "metadata": {},
   "outputs": [
    {
     "data": {
      "text/plain": [
       "17600.0"
      ]
     },
     "execution_count": 124,
     "metadata": {},
     "output_type": "execute_result"
    }
   ],
   "source": [
    "lending_co_data['TotalPrice'].loc['LoanID_1']"
   ]
  },
  {
   "cell_type": "code",
   "execution_count": 125,
   "metadata": {},
   "outputs": [
    {
     "name": "stderr",
     "output_type": "stream",
     "text": [
      "C:\\Users\\arnab\\AppData\\Local\\Temp\\ipykernel_13624\\1605309455.py:1: FutureWarning: Series.__getitem__ treating keys as positions is deprecated. In a future version, integer keys will always be treated as labels (consistent with DataFrame behavior). To access a value by position, use `ser.iloc[pos]`\n",
      "  lending_co_data['TotalPrice'][0]\n"
     ]
    },
    {
     "data": {
      "text/plain": [
       "17600.0"
      ]
     },
     "execution_count": 125,
     "metadata": {},
     "output_type": "execute_result"
    }
   ],
   "source": [
    "lending_co_data['TotalPrice'][0]"
   ]
  },
  {
   "cell_type": "code",
   "execution_count": 126,
   "metadata": {},
   "outputs": [
    {
     "data": {
      "text/plain": [
       "17600.0"
      ]
     },
     "execution_count": 126,
     "metadata": {},
     "output_type": "execute_result"
    }
   ],
   "source": [
    "lending_co_data['TotalPrice']['LoanID_1']"
   ]
  },
  {
   "cell_type": "code",
   "execution_count": 127,
   "metadata": {},
   "outputs": [
    {
     "name": "stderr",
     "output_type": "stream",
     "text": [
      "C:\\Users\\arnab\\AppData\\Local\\Temp\\ipykernel_13624\\1538933843.py:1: FutureWarning: Series.__getitem__ treating keys as positions is deprecated. In a future version, integer keys will always be treated as labels (consistent with DataFrame behavior). To access a value by position, use `ser.iloc[pos]`\n",
      "  lending_co_data.iloc[0][5]\n"
     ]
    },
    {
     "data": {
      "text/plain": [
       "17600.0"
      ]
     },
     "execution_count": 127,
     "metadata": {},
     "output_type": "execute_result"
    }
   ],
   "source": [
    "lending_co_data.iloc[0][5]"
   ]
  },
  {
   "cell_type": "code",
   "execution_count": 128,
   "metadata": {},
   "outputs": [
    {
     "data": {
      "text/plain": [
       "17600.0"
      ]
     },
     "execution_count": 128,
     "metadata": {},
     "output_type": "execute_result"
    }
   ],
   "source": [
    "lending_co_data.iloc[0, 5]"
   ]
  },
  {
   "cell_type": "code",
   "execution_count": 129,
   "metadata": {},
   "outputs": [
    {
     "data": {
      "text/html": [
       "<div>\n",
       "<style scoped>\n",
       "    .dataframe tbody tr th:only-of-type {\n",
       "        vertical-align: middle;\n",
       "    }\n",
       "\n",
       "    .dataframe tbody tr th {\n",
       "        vertical-align: top;\n",
       "    }\n",
       "\n",
       "    .dataframe thead th {\n",
       "        text-align: right;\n",
       "    }\n",
       "</style>\n",
       "<table border=\"1\" class=\"dataframe\">\n",
       "  <thead>\n",
       "    <tr style=\"text-align: right;\">\n",
       "      <th></th>\n",
       "      <th>LoanID</th>\n",
       "      <th>Product</th>\n",
       "      <th>CustomerGender</th>\n",
       "      <th>Location</th>\n",
       "      <th>Region</th>\n",
       "      <th>TotalPrice</th>\n",
       "      <th>StartDate</th>\n",
       "      <th>Deposit</th>\n",
       "      <th>DailyRate</th>\n",
       "      <th>TotalDaysYr</th>\n",
       "      <th>AmtPaid36</th>\n",
       "      <th>AmtPaid60</th>\n",
       "      <th>AmtPaid360</th>\n",
       "      <th>LoanStatus</th>\n",
       "    </tr>\n",
       "    <tr>\n",
       "      <th>StringID</th>\n",
       "      <th></th>\n",
       "      <th></th>\n",
       "      <th></th>\n",
       "      <th></th>\n",
       "      <th></th>\n",
       "      <th></th>\n",
       "      <th></th>\n",
       "      <th></th>\n",
       "      <th></th>\n",
       "      <th></th>\n",
       "      <th></th>\n",
       "      <th></th>\n",
       "      <th></th>\n",
       "      <th></th>\n",
       "    </tr>\n",
       "  </thead>\n",
       "  <tbody>\n",
       "    <tr>\n",
       "      <th>LoanID_1</th>\n",
       "      <td>1</td>\n",
       "      <td>Product B</td>\n",
       "      <td>Female</td>\n",
       "      <td>Location 3</td>\n",
       "      <td>Region 2</td>\n",
       "      <td>17600.0</td>\n",
       "      <td>04/07/2018</td>\n",
       "      <td>2200</td>\n",
       "      <td>45</td>\n",
       "      <td>365</td>\n",
       "      <td>3221</td>\n",
       "      <td>4166</td>\n",
       "      <td>14621</td>\n",
       "      <td>Active</td>\n",
       "    </tr>\n",
       "    <tr>\n",
       "      <th>LoanID_6</th>\n",
       "      <td>6</td>\n",
       "      <td>Product A</td>\n",
       "      <td>Male</td>\n",
       "      <td>Location 34</td>\n",
       "      <td>Region 1</td>\n",
       "      <td>NaN</td>\n",
       "      <td>19/04/2019</td>\n",
       "      <td>2200</td>\n",
       "      <td>45</td>\n",
       "      <td>365</td>\n",
       "      <td>3301</td>\n",
       "      <td>4066</td>\n",
       "      <td>15141</td>\n",
       "      <td>Active</td>\n",
       "    </tr>\n",
       "  </tbody>\n",
       "</table>\n",
       "</div>"
      ],
      "text/plain": [
       "          LoanID    Product CustomerGender     Location    Region  TotalPrice  \\\n",
       "StringID                                                                        \n",
       "LoanID_1       1  Product B         Female   Location 3  Region 2     17600.0   \n",
       "LoanID_6       6  Product A           Male  Location 34  Region 1         NaN   \n",
       "\n",
       "           StartDate  Deposit  DailyRate  TotalDaysYr  AmtPaid36  AmtPaid60  \\\n",
       "StringID                                                                      \n",
       "LoanID_1  04/07/2018     2200         45          365       3221       4166   \n",
       "LoanID_6  19/04/2019     2200         45          365       3301       4066   \n",
       "\n",
       "          AmtPaid360 LoanStatus  \n",
       "StringID                         \n",
       "LoanID_1       14621     Active  \n",
       "LoanID_6       15141     Active  "
      ]
     },
     "execution_count": 129,
     "metadata": {},
     "output_type": "execute_result"
    }
   ],
   "source": [
    "lending_co_data.iloc[[0, 5]]"
   ]
  },
  {
   "cell_type": "code",
   "execution_count": 130,
   "metadata": {},
   "outputs": [
    {
     "data": {
      "text/html": [
       "<div>\n",
       "<style scoped>\n",
       "    .dataframe tbody tr th:only-of-type {\n",
       "        vertical-align: middle;\n",
       "    }\n",
       "\n",
       "    .dataframe tbody tr th {\n",
       "        vertical-align: top;\n",
       "    }\n",
       "\n",
       "    .dataframe thead th {\n",
       "        text-align: right;\n",
       "    }\n",
       "</style>\n",
       "<table border=\"1\" class=\"dataframe\">\n",
       "  <thead>\n",
       "    <tr style=\"text-align: right;\">\n",
       "      <th></th>\n",
       "      <th>LoanID</th>\n",
       "      <th>Product</th>\n",
       "      <th>CustomerGender</th>\n",
       "      <th>Location</th>\n",
       "      <th>Region</th>\n",
       "      <th>TotalPrice</th>\n",
       "      <th>StartDate</th>\n",
       "      <th>Deposit</th>\n",
       "      <th>DailyRate</th>\n",
       "      <th>TotalDaysYr</th>\n",
       "      <th>AmtPaid36</th>\n",
       "      <th>AmtPaid60</th>\n",
       "      <th>AmtPaid360</th>\n",
       "      <th>LoanStatus</th>\n",
       "    </tr>\n",
       "    <tr>\n",
       "      <th>StringID</th>\n",
       "      <th></th>\n",
       "      <th></th>\n",
       "      <th></th>\n",
       "      <th></th>\n",
       "      <th></th>\n",
       "      <th></th>\n",
       "      <th></th>\n",
       "      <th></th>\n",
       "      <th></th>\n",
       "      <th></th>\n",
       "      <th></th>\n",
       "      <th></th>\n",
       "      <th></th>\n",
       "      <th></th>\n",
       "    </tr>\n",
       "  </thead>\n",
       "  <tbody>\n",
       "    <tr>\n",
       "      <th>LoanID_1</th>\n",
       "      <td>1</td>\n",
       "      <td>Product B</td>\n",
       "      <td>Female</td>\n",
       "      <td>Location 3</td>\n",
       "      <td>Region 2</td>\n",
       "      <td>17600.0</td>\n",
       "      <td>04/07/2018</td>\n",
       "      <td>2200</td>\n",
       "      <td>45</td>\n",
       "      <td>365</td>\n",
       "      <td>3221</td>\n",
       "      <td>4166</td>\n",
       "      <td>14621</td>\n",
       "      <td>Active</td>\n",
       "    </tr>\n",
       "    <tr>\n",
       "      <th>LoanID_6</th>\n",
       "      <td>6</td>\n",
       "      <td>Product A</td>\n",
       "      <td>Male</td>\n",
       "      <td>Location 34</td>\n",
       "      <td>Region 1</td>\n",
       "      <td>NaN</td>\n",
       "      <td>19/04/2019</td>\n",
       "      <td>2200</td>\n",
       "      <td>45</td>\n",
       "      <td>365</td>\n",
       "      <td>3301</td>\n",
       "      <td>4066</td>\n",
       "      <td>15141</td>\n",
       "      <td>Active</td>\n",
       "    </tr>\n",
       "  </tbody>\n",
       "</table>\n",
       "</div>"
      ],
      "text/plain": [
       "          LoanID    Product CustomerGender     Location    Region  TotalPrice  \\\n",
       "StringID                                                                        \n",
       "LoanID_1       1  Product B         Female   Location 3  Region 2     17600.0   \n",
       "LoanID_6       6  Product A           Male  Location 34  Region 1         NaN   \n",
       "\n",
       "           StartDate  Deposit  DailyRate  TotalDaysYr  AmtPaid36  AmtPaid60  \\\n",
       "StringID                                                                      \n",
       "LoanID_1  04/07/2018     2200         45          365       3221       4166   \n",
       "LoanID_6  19/04/2019     2200         45          365       3301       4066   \n",
       "\n",
       "          AmtPaid360 LoanStatus  \n",
       "StringID                         \n",
       "LoanID_1       14621     Active  \n",
       "LoanID_6       15141     Active  "
      ]
     },
     "execution_count": 130,
     "metadata": {},
     "output_type": "execute_result"
    }
   ],
   "source": [
    "lending_co_data.iloc[[0, 5], :]"
   ]
  },
  {
   "cell_type": "code",
   "execution_count": 131,
   "metadata": {},
   "outputs": [
    {
     "data": {
      "text/plain": [
       "17600.0"
      ]
     },
     "execution_count": 131,
     "metadata": {},
     "output_type": "execute_result"
    }
   ],
   "source": [
    "lending_co_data['TotalPrice']['LoanID_1']"
   ]
  },
  {
   "cell_type": "code",
   "execution_count": 132,
   "metadata": {},
   "outputs": [
    {
     "data": {
      "text/plain": [
       "17600.0"
      ]
     },
     "execution_count": 132,
     "metadata": {},
     "output_type": "execute_result"
    }
   ],
   "source": [
    "lending_co_data.loc['LoanID_1', 'TotalPrice']"
   ]
  },
  {
   "cell_type": "code",
   "execution_count": 133,
   "metadata": {},
   "outputs": [
    {
     "data": {
      "text/html": [
       "<div>\n",
       "<style scoped>\n",
       "    .dataframe tbody tr th:only-of-type {\n",
       "        vertical-align: middle;\n",
       "    }\n",
       "\n",
       "    .dataframe tbody tr th {\n",
       "        vertical-align: top;\n",
       "    }\n",
       "\n",
       "    .dataframe thead th {\n",
       "        text-align: right;\n",
       "    }\n",
       "</style>\n",
       "<table border=\"1\" class=\"dataframe\">\n",
       "  <thead>\n",
       "    <tr style=\"text-align: right;\">\n",
       "      <th></th>\n",
       "      <th>LoanID</th>\n",
       "      <th>Product</th>\n",
       "      <th>CustomerGender</th>\n",
       "      <th>Location</th>\n",
       "      <th>Region</th>\n",
       "      <th>TotalPrice</th>\n",
       "      <th>StartDate</th>\n",
       "      <th>Deposit</th>\n",
       "      <th>DailyRate</th>\n",
       "      <th>TotalDaysYr</th>\n",
       "      <th>AmtPaid36</th>\n",
       "      <th>AmtPaid60</th>\n",
       "      <th>AmtPaid360</th>\n",
       "      <th>LoanStatus</th>\n",
       "    </tr>\n",
       "    <tr>\n",
       "      <th>StringID</th>\n",
       "      <th></th>\n",
       "      <th></th>\n",
       "      <th></th>\n",
       "      <th></th>\n",
       "      <th></th>\n",
       "      <th></th>\n",
       "      <th></th>\n",
       "      <th></th>\n",
       "      <th></th>\n",
       "      <th></th>\n",
       "      <th></th>\n",
       "      <th></th>\n",
       "      <th></th>\n",
       "      <th></th>\n",
       "    </tr>\n",
       "  </thead>\n",
       "  <tbody>\n",
       "    <tr>\n",
       "      <th>LoanID_1</th>\n",
       "      <td>1</td>\n",
       "      <td>Product B</td>\n",
       "      <td>Female</td>\n",
       "      <td>Location 3</td>\n",
       "      <td>Region 2</td>\n",
       "      <td>17600.0</td>\n",
       "      <td>04/07/2018</td>\n",
       "      <td>2200</td>\n",
       "      <td>45</td>\n",
       "      <td>365</td>\n",
       "      <td>3221</td>\n",
       "      <td>4166</td>\n",
       "      <td>14621</td>\n",
       "      <td>Active</td>\n",
       "    </tr>\n",
       "    <tr>\n",
       "      <th>LoanID_6</th>\n",
       "      <td>6</td>\n",
       "      <td>Product A</td>\n",
       "      <td>Male</td>\n",
       "      <td>Location 34</td>\n",
       "      <td>Region 1</td>\n",
       "      <td>NaN</td>\n",
       "      <td>19/04/2019</td>\n",
       "      <td>2200</td>\n",
       "      <td>45</td>\n",
       "      <td>365</td>\n",
       "      <td>3301</td>\n",
       "      <td>4066</td>\n",
       "      <td>15141</td>\n",
       "      <td>Active</td>\n",
       "    </tr>\n",
       "  </tbody>\n",
       "</table>\n",
       "</div>"
      ],
      "text/plain": [
       "          LoanID    Product CustomerGender     Location    Region  TotalPrice  \\\n",
       "StringID                                                                        \n",
       "LoanID_1       1  Product B         Female   Location 3  Region 2     17600.0   \n",
       "LoanID_6       6  Product A           Male  Location 34  Region 1         NaN   \n",
       "\n",
       "           StartDate  Deposit  DailyRate  TotalDaysYr  AmtPaid36  AmtPaid60  \\\n",
       "StringID                                                                      \n",
       "LoanID_1  04/07/2018     2200         45          365       3221       4166   \n",
       "LoanID_6  19/04/2019     2200         45          365       3301       4066   \n",
       "\n",
       "          AmtPaid360 LoanStatus  \n",
       "StringID                         \n",
       "LoanID_1       14621     Active  \n",
       "LoanID_6       15141     Active  "
      ]
     },
     "execution_count": 133,
     "metadata": {},
     "output_type": "execute_result"
    }
   ],
   "source": [
    "lending_co_data.loc[['LoanID_1', 'LoanID_6']]"
   ]
  },
  {
   "cell_type": "code",
   "execution_count": 134,
   "metadata": {},
   "outputs": [
    {
     "data": {
      "text/html": [
       "<div>\n",
       "<style scoped>\n",
       "    .dataframe tbody tr th:only-of-type {\n",
       "        vertical-align: middle;\n",
       "    }\n",
       "\n",
       "    .dataframe tbody tr th {\n",
       "        vertical-align: top;\n",
       "    }\n",
       "\n",
       "    .dataframe thead th {\n",
       "        text-align: right;\n",
       "    }\n",
       "</style>\n",
       "<table border=\"1\" class=\"dataframe\">\n",
       "  <thead>\n",
       "    <tr style=\"text-align: right;\">\n",
       "      <th></th>\n",
       "      <th>LoanID</th>\n",
       "      <th>Product</th>\n",
       "      <th>CustomerGender</th>\n",
       "      <th>Location</th>\n",
       "      <th>Region</th>\n",
       "      <th>TotalPrice</th>\n",
       "      <th>StartDate</th>\n",
       "      <th>Deposit</th>\n",
       "      <th>DailyRate</th>\n",
       "      <th>TotalDaysYr</th>\n",
       "      <th>AmtPaid36</th>\n",
       "      <th>AmtPaid60</th>\n",
       "      <th>AmtPaid360</th>\n",
       "      <th>LoanStatus</th>\n",
       "    </tr>\n",
       "    <tr>\n",
       "      <th>StringID</th>\n",
       "      <th></th>\n",
       "      <th></th>\n",
       "      <th></th>\n",
       "      <th></th>\n",
       "      <th></th>\n",
       "      <th></th>\n",
       "      <th></th>\n",
       "      <th></th>\n",
       "      <th></th>\n",
       "      <th></th>\n",
       "      <th></th>\n",
       "      <th></th>\n",
       "      <th></th>\n",
       "      <th></th>\n",
       "    </tr>\n",
       "  </thead>\n",
       "  <tbody>\n",
       "    <tr>\n",
       "      <th>LoanID_1</th>\n",
       "      <td>1</td>\n",
       "      <td>Product B</td>\n",
       "      <td>Female</td>\n",
       "      <td>Location 3</td>\n",
       "      <td>Region 2</td>\n",
       "      <td>17600.0</td>\n",
       "      <td>04/07/2018</td>\n",
       "      <td>2200</td>\n",
       "      <td>45</td>\n",
       "      <td>365</td>\n",
       "      <td>3221</td>\n",
       "      <td>4166</td>\n",
       "      <td>14621</td>\n",
       "      <td>Active</td>\n",
       "    </tr>\n",
       "    <tr>\n",
       "      <th>LoanID_6</th>\n",
       "      <td>6</td>\n",
       "      <td>Product A</td>\n",
       "      <td>Male</td>\n",
       "      <td>Location 34</td>\n",
       "      <td>Region 1</td>\n",
       "      <td>NaN</td>\n",
       "      <td>19/04/2019</td>\n",
       "      <td>2200</td>\n",
       "      <td>45</td>\n",
       "      <td>365</td>\n",
       "      <td>3301</td>\n",
       "      <td>4066</td>\n",
       "      <td>15141</td>\n",
       "      <td>Active</td>\n",
       "    </tr>\n",
       "  </tbody>\n",
       "</table>\n",
       "</div>"
      ],
      "text/plain": [
       "          LoanID    Product CustomerGender     Location    Region  TotalPrice  \\\n",
       "StringID                                                                        \n",
       "LoanID_1       1  Product B         Female   Location 3  Region 2     17600.0   \n",
       "LoanID_6       6  Product A           Male  Location 34  Region 1         NaN   \n",
       "\n",
       "           StartDate  Deposit  DailyRate  TotalDaysYr  AmtPaid36  AmtPaid60  \\\n",
       "StringID                                                                      \n",
       "LoanID_1  04/07/2018     2200         45          365       3221       4166   \n",
       "LoanID_6  19/04/2019     2200         45          365       3301       4066   \n",
       "\n",
       "          AmtPaid360 LoanStatus  \n",
       "StringID                         \n",
       "LoanID_1       14621     Active  \n",
       "LoanID_6       15141     Active  "
      ]
     },
     "execution_count": 134,
     "metadata": {},
     "output_type": "execute_result"
    }
   ],
   "source": [
    "lending_co_data.loc[['LoanID_1', 'LoanID_6'], :]"
   ]
  },
  {
   "cell_type": "code",
   "execution_count": 135,
   "metadata": {},
   "outputs": [
    {
     "data": {
      "text/plain": [
       "StringID\n",
       "LoanID_1    17600.0\n",
       "LoanID_6        NaN\n",
       "Name: TotalPrice, dtype: float64"
      ]
     },
     "execution_count": 135,
     "metadata": {},
     "output_type": "execute_result"
    }
   ],
   "source": [
    "lending_co_data['TotalPrice'].iloc[[0, 5]]"
   ]
  },
  {
   "cell_type": "code",
   "execution_count": 136,
   "metadata": {},
   "outputs": [
    {
     "data": {
      "text/plain": [
       "StringID\n",
       "LoanID_1    17600.0\n",
       "LoanID_6        NaN\n",
       "Name: TotalPrice, dtype: float64"
      ]
     },
     "execution_count": 136,
     "metadata": {},
     "output_type": "execute_result"
    }
   ],
   "source": [
    "lending_co_data.loc[:, 'TotalPrice'].iloc[[0, 5]]"
   ]
  },
  {
   "cell_type": "code",
   "execution_count": 137,
   "metadata": {},
   "outputs": [
    {
     "data": {
      "text/plain": [
       "array([[1, 2, 3],\n",
       "       [4, 5, 6]])"
      ]
     },
     "execution_count": 137,
     "metadata": {},
     "output_type": "execute_result"
    }
   ],
   "source": [
    "array_a = np.array([[1, 2, 3],[4, 5, 6]])\n",
    "array_a"
   ]
  },
  {
   "cell_type": "code",
   "execution_count": 138,
   "metadata": {},
   "outputs": [
    {
     "data": {
      "text/plain": [
       "array([[1, 2, 9],\n",
       "       [4, 5, 6]])"
      ]
     },
     "execution_count": 138,
     "metadata": {},
     "output_type": "execute_result"
    }
   ],
   "source": [
    "array_a[0, 2] = 9\n",
    "array_a"
   ]
  },
  {
   "cell_type": "code",
   "execution_count": 139,
   "metadata": {},
   "outputs": [
    {
     "data": {
      "text/plain": [
       "array([[8, 7, 8],\n",
       "       [4, 5, 6]])"
      ]
     },
     "execution_count": 139,
     "metadata": {},
     "output_type": "execute_result"
    }
   ],
   "source": [
    "list_a = [8, 7, 8]\n",
    "array_a[0] = list_a\n",
    "array_a"
   ]
  },
  {
   "cell_type": "code",
   "execution_count": 140,
   "metadata": {},
   "outputs": [
    {
     "data": {
      "text/plain": [
       "[1, 2, 3]"
      ]
     },
     "execution_count": 140,
     "metadata": {},
     "output_type": "execute_result"
    }
   ],
   "source": [
    "list_L = [1, 2, 3]\n",
    "list_L"
   ]
  },
  {
   "cell_type": "code",
   "execution_count": 141,
   "metadata": {},
   "outputs": [
    {
     "data": {
      "text/plain": [
       "[1, 2, 3, 2]"
      ]
     },
     "execution_count": 141,
     "metadata": {},
     "output_type": "execute_result"
    }
   ],
   "source": [
    "list_L + [2]"
   ]
  },
  {
   "cell_type": "code",
   "execution_count": 142,
   "metadata": {},
   "outputs": [
    {
     "data": {
      "text/plain": [
       "array([[10,  9, 10],\n",
       "       [ 6,  7,  8]])"
      ]
     },
     "execution_count": 142,
     "metadata": {},
     "output_type": "execute_result"
    }
   ],
   "source": [
    "array_a + 2"
   ]
  },
  {
   "cell_type": "code",
   "execution_count": 143,
   "metadata": {},
   "outputs": [
    {
     "data": {
      "text/plain": [
       "array([[1.+0.j, 2.+0.j, 3.+0.j],\n",
       "       [4.+0.j, 5.+0.j, 6.+0.j]], dtype=complex64)"
      ]
     },
     "execution_count": 143,
     "metadata": {},
     "output_type": "execute_result"
    }
   ],
   "source": [
    "array_a = np.array([[1, 2, 3],[4, 5, 6]], dtype= \"complex64\")\n",
    "array_a"
   ]
  },
  {
   "cell_type": "code",
   "execution_count": 144,
   "metadata": {},
   "outputs": [
    {
     "data": {
      "text/plain": [
       "array([[1.+0.j, 2.+0.j, 3.+0.j],\n",
       "       [4.+0.j, 5.+0.j, 6.+0.j]], dtype=complex64)"
      ]
     },
     "execution_count": 144,
     "metadata": {},
     "output_type": "execute_result"
    }
   ],
   "source": [
    "array_a"
   ]
  },
  {
   "cell_type": "code",
   "execution_count": 145,
   "metadata": {},
   "outputs": [
    {
     "data": {
      "text/plain": [
       "array([[1.+0.j, 2.+0.j, 3.+0.j],\n",
       "       [4.+0.j, 5.+0.j, 6.+0.j]], dtype=complex64)"
      ]
     },
     "execution_count": 145,
     "metadata": {},
     "output_type": "execute_result"
    }
   ],
   "source": [
    "array_a[:]"
   ]
  },
  {
   "cell_type": "code",
   "execution_count": 146,
   "metadata": {},
   "outputs": [
    {
     "data": {
      "text/plain": [
       "array([], shape=(0, 3), dtype=complex64)"
      ]
     },
     "execution_count": 146,
     "metadata": {},
     "output_type": "execute_result"
    }
   ],
   "source": [
    "array_a[0:0]"
   ]
  },
  {
   "cell_type": "code",
   "execution_count": 147,
   "metadata": {},
   "outputs": [
    {
     "data": {
      "text/plain": [
       "array([[1.+0.j, 2.+0.j, 3.+0.j]], dtype=complex64)"
      ]
     },
     "execution_count": 147,
     "metadata": {},
     "output_type": "execute_result"
    }
   ],
   "source": [
    "array_a[0:1]"
   ]
  },
  {
   "cell_type": "code",
   "execution_count": 148,
   "metadata": {},
   "outputs": [
    {
     "data": {
      "text/plain": [
       "array([[4.+0.j]], dtype=complex64)"
      ]
     },
     "execution_count": 148,
     "metadata": {},
     "output_type": "execute_result"
    }
   ],
   "source": [
    "array_a[1:2,0:1]"
   ]
  },
  {
   "cell_type": "code",
   "execution_count": 149,
   "metadata": {},
   "outputs": [
    {
     "data": {
      "text/plain": [
       "array([[1, 1, 1, 2, 0],\n",
       "       [3, 6, 6, 7, 4],\n",
       "       [4, 5, 3, 8, 0]])"
      ]
     },
     "execution_count": 149,
     "metadata": {},
     "output_type": "execute_result"
    }
   ],
   "source": [
    "matrix_B = np.array([[1,1,1,2,0], [3,6,6,7,4],[4,5,3,8,0]])\n",
    "matrix_B"
   ]
  },
  {
   "cell_type": "code",
   "execution_count": 159,
   "metadata": {},
   "outputs": [
    {
     "data": {
      "text/plain": [
       "array([[ True,  True, False],\n",
       "       [ True,  True,  True],\n",
       "       [False, False, False]])"
      ]
     },
     "execution_count": 159,
     "metadata": {},
     "output_type": "execute_result"
    }
   ],
   "source": [
    "matrix_B[::-1,::2]>2"
   ]
  },
  {
   "cell_type": "code",
   "execution_count": 162,
   "metadata": {},
   "outputs": [
    {
     "data": {
      "text/plain": [
       "array([6, 6, 4, 4, 8])"
      ]
     },
     "execution_count": 162,
     "metadata": {},
     "output_type": "execute_result"
    }
   ],
   "source": [
    "matrix_B[(matrix_B[::,::]>2) & (matrix_B[::,::] %2 == 0)]"
   ]
  },
  {
   "cell_type": "code",
   "execution_count": 163,
   "metadata": {},
   "outputs": [
    {
     "data": {
      "text/plain": [
       "array([2, 0, 3, 6, 6, 7, 4, 4, 5, 3, 8, 0])"
      ]
     },
     "execution_count": 163,
     "metadata": {},
     "output_type": "execute_result"
    }
   ],
   "source": [
    "matrix_B[(matrix_B[::,::]>2) | (matrix_B[::,::] %2 == 0)]"
   ]
  },
  {
   "cell_type": "code",
   "execution_count": 164,
   "metadata": {},
   "outputs": [
    {
     "data": {
      "text/plain": [
       "1"
      ]
     },
     "execution_count": 164,
     "metadata": {},
     "output_type": "execute_result"
    }
   ],
   "source": [
    "matrix_B[0,0]"
   ]
  },
  {
   "cell_type": "code",
   "execution_count": 168,
   "metadata": {},
   "outputs": [
    {
     "data": {
      "text/plain": [
       "numpy.int32"
      ]
     },
     "execution_count": 168,
     "metadata": {},
     "output_type": "execute_result"
    }
   ],
   "source": [
    "type(matrix_B[0,0])"
   ]
  },
  {
   "cell_type": "code",
   "execution_count": 169,
   "metadata": {},
   "outputs": [
    {
     "data": {
      "text/plain": [
       "numpy.ndarray"
      ]
     },
     "execution_count": 169,
     "metadata": {},
     "output_type": "execute_result"
    }
   ],
   "source": [
    "type(matrix_B[0,0:1])"
   ]
  },
  {
   "cell_type": "code",
   "execution_count": 170,
   "metadata": {},
   "outputs": [
    {
     "data": {
      "text/plain": [
       "numpy.ndarray"
      ]
     },
     "execution_count": 170,
     "metadata": {},
     "output_type": "execute_result"
    }
   ],
   "source": [
    "type(matrix_B[0:1,0:1])"
   ]
  },
  {
   "cell_type": "code",
   "execution_count": 172,
   "metadata": {},
   "outputs": [
    {
     "name": "stdout",
     "output_type": "stream",
     "text": [
      "()\n"
     ]
    }
   ],
   "source": [
    "print(matrix_B[0,0].shape)"
   ]
  },
  {
   "cell_type": "code",
   "execution_count": 173,
   "metadata": {},
   "outputs": [
    {
     "name": "stdout",
     "output_type": "stream",
     "text": [
      "(1,)\n"
     ]
    }
   ],
   "source": [
    "print(matrix_B[0,0:1].shape)"
   ]
  },
  {
   "cell_type": "code",
   "execution_count": 174,
   "metadata": {},
   "outputs": [
    {
     "name": "stdout",
     "output_type": "stream",
     "text": [
      "(1, 1)\n"
     ]
    }
   ],
   "source": [
    "print(matrix_B[0:1,0:1].shape)"
   ]
  },
  {
   "cell_type": "code",
   "execution_count": 175,
   "metadata": {},
   "outputs": [
    {
     "data": {
      "text/plain": [
       "array(1)"
      ]
     },
     "execution_count": 175,
     "metadata": {},
     "output_type": "execute_result"
    }
   ],
   "source": [
    "matrix_B[0:1,0:1].squeeze()"
   ]
  },
  {
   "cell_type": "code",
   "execution_count": 176,
   "metadata": {},
   "outputs": [
    {
     "name": "stdout",
     "output_type": "stream",
     "text": [
      "1\n"
     ]
    }
   ],
   "source": [
    "print(matrix_B[0:1,0:1].squeeze())"
   ]
  },
  {
   "cell_type": "code",
   "execution_count": 177,
   "metadata": {},
   "outputs": [
    {
     "data": {
      "text/plain": [
       "numpy.ndarray"
      ]
     },
     "execution_count": 177,
     "metadata": {},
     "output_type": "execute_result"
    }
   ],
   "source": [
    "type(matrix_B[0:1,0:1].squeeze())"
   ]
  },
  {
   "cell_type": "code",
   "execution_count": 178,
   "metadata": {},
   "outputs": [
    {
     "data": {
      "text/plain": [
       "()"
      ]
     },
     "execution_count": 178,
     "metadata": {},
     "output_type": "execute_result"
    }
   ],
   "source": [
    "matrix_B[0:1,0:1].squeeze().shape"
   ]
  },
  {
   "cell_type": "code",
   "execution_count": 180,
   "metadata": {},
   "outputs": [
    {
     "data": {
      "text/plain": [
       "array(1)"
      ]
     },
     "execution_count": 180,
     "metadata": {},
     "output_type": "execute_result"
    }
   ],
   "source": [
    "np.squeeze(matrix_B[0:1,0:1])"
   ]
  },
  {
   "cell_type": "code",
   "execution_count": null,
   "metadata": {},
   "outputs": [],
   "source": []
  }
 ],
 "metadata": {
  "kernelspec": {
   "display_name": "Python 3",
   "language": "python",
   "name": "python3"
  },
  "language_info": {
   "codemirror_mode": {
    "name": "ipython",
    "version": 3
   },
   "file_extension": ".py",
   "mimetype": "text/x-python",
   "name": "python",
   "nbconvert_exporter": "python",
   "pygments_lexer": "ipython3",
   "version": "3.12.2"
  }
 },
 "nbformat": 4,
 "nbformat_minor": 2
}
