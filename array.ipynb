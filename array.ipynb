{
  "nbformat": 4,
  "nbformat_minor": 0,
  "metadata": {
    "colab": {
      "provenance": [],
      "authorship_tag": "ABX9TyNKOTmhIBp1ya618L5dyO3k",
      "include_colab_link": true
    },
    "kernelspec": {
      "name": "python3",
      "display_name": "Python 3"
    },
    "language_info": {
      "name": "python"
    }
  },
  "cells": [
    {
      "cell_type": "markdown",
      "metadata": {
        "id": "view-in-github",
        "colab_type": "text"
      },
      "source": [
        "<a href=\"https://colab.research.google.com/github/arnaduty/my_learnings/blob/main/array.ipynb\" target=\"_parent\"><img src=\"https://colab.research.google.com/assets/colab-badge.svg\" alt=\"Open In Colab\"/></a>"
      ]
    },
    {
      "cell_type": "code",
      "execution_count": 1,
      "metadata": {
        "colab": {
          "base_uri": "https://localhost:8080/"
        },
        "id": "DJc8DnTaSW42",
        "outputId": "d94cc813-88db-4d7f-b84f-bec15eccad61"
      },
      "outputs": [
        {
          "output_type": "stream",
          "name": "stdout",
          "text": [
            "5\n",
            "9\n",
            "-8\n",
            "4\n",
            "2\n",
            "7\n",
            "9\n",
            "0\n",
            "-9\n",
            "10000\n"
          ]
        }
      ],
      "source": [
        "from array import *\n",
        "\n",
        "vals = array('i',[5,9,-8,4,2,7,9,0,-9,10000])\n",
        "i=0\n",
        "for i in range (len(vals)):\n",
        "        print(vals[i])"
      ]
    }
  ]
}