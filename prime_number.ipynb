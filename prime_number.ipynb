{
  "nbformat": 4,
  "nbformat_minor": 0,
  "metadata": {
    "colab": {
      "provenance": [],
      "toc_visible": true,
      "mount_file_id": "16BMMpy6z0OivXV-4bcVwU7cWiKDdJ7iB",
      "authorship_tag": "ABX9TyOAu9sZ4uv7xwjt0J9pF28/",
      "include_colab_link": true
    },
    "kernelspec": {
      "name": "python3",
      "display_name": "Python 3"
    },
    "language_info": {
      "name": "python"
    }
  },
  "cells": [
    {
      "cell_type": "markdown",
      "metadata": {
        "id": "view-in-github",
        "colab_type": "text"
      },
      "source": [
        "<a href=\"https://colab.research.google.com/github/arnaduty/my_learnings/blob/main/prime_number.ipynb\" target=\"_parent\"><img src=\"https://colab.research.google.com/assets/colab-badge.svg\" alt=\"Open In Colab\"/></a>"
      ]
    },
    {
      "cell_type": "code",
      "execution_count": 1,
      "metadata": {
        "colab": {
          "base_uri": "https://localhost:8080/"
        },
        "id": "j_KbBqSLLgWz",
        "outputId": "6b33d3a7-cfb9-4c88-9c19-0313325d0aa4"
      },
      "outputs": [
        {
          "output_type": "stream",
          "name": "stdout",
          "text": [
            "Enter the number: 43\n",
            "43 is a prime number\n"
          ]
        }
      ],
      "source": [
        "num = int(input(\"Enter the number: \"))\n",
        "\n",
        "if num > 1:\n",
        "# check for factors\n",
        "    for i in range(2,num):\n",
        "        if (num % i) == 0:\n",
        "            print(num,\"is not a prime number\")\n",
        "            print(i,\"times\",num//i,\"is\",num)\n",
        "            break\n",
        "    else:\n",
        "        print(num,\"is a prime number\")\n",
        "# if input number is less than\n",
        "# or equal to 1, it is not prime\n",
        "else:\n",
        "    print(num,\"Which is not greater than 1 is not a prime number\")\n"
      ]
    }
  ]
}