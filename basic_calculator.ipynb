{
  "nbformat": 4,
  "nbformat_minor": 0,
  "metadata": {
    "colab": {
      "provenance": [],
      "authorship_tag": "ABX9TyMSwjFuih5aovV9ch3L2xyB",
      "include_colab_link": true
    },
    "kernelspec": {
      "name": "python3",
      "display_name": "Python 3"
    },
    "language_info": {
      "name": "python"
    }
  },
  "cells": [
    {
      "cell_type": "markdown",
      "metadata": {
        "id": "view-in-github",
        "colab_type": "text"
      },
      "source": [
        "<a href=\"https://colab.research.google.com/github/arnaduty/my_learnings/blob/main/basic_calculator.ipynb\" target=\"_parent\"><img src=\"https://colab.research.google.com/assets/colab-badge.svg\" alt=\"Open In Colab\"/></a>"
      ]
    },
    {
      "cell_type": "code",
      "source": [
        "def add(x, y):\n",
        "   return x + y\n",
        "\n",
        "def subtract(x, y):\n",
        "   return x - y\n",
        "\n",
        "def multiply(x, y):\n",
        "   return x * y\n",
        "\n",
        "def divide(x, y):\n",
        "   if y != 0:\n",
        "       return x / y\n",
        "   else:\n",
        "       return 'Error! Division by zero is not allowed.'\n",
        "\n",
        "print(\"Select operation:\")\n",
        "print(\"1.Add\")\n",
        "print(\"2.Subtract\")\n",
        "print(\"3.Multiply\")\n",
        "print(\"4.Divide\")\n",
        "\n",
        "while True:\n",
        "   choice = input(\"Enter choice(1/2/3/4): \")\n",
        "   if choice in ('1', '2', '3', '4'):\n",
        "       num1 = float(input(\"Enter first number: \"))\n",
        "       num2 = float(input(\"Enter second number: \"))\n",
        "       if choice == '1':\n",
        "           print(num1, \"+\", num2, \"=\", add(num1, num2))\n",
        "       elif choice == '2':\n",
        "           print(num1, \"-\", num2, \"=\", subtract(num1, num2))\n",
        "       elif choice == '3':\n",
        "           print(num1, \"*\", num2, \"=\", multiply(num1, num2))\n",
        "       elif choice == '4':\n",
        "           print(num1, \"/\", num2, \"=\", divide(num1, num2))\n",
        "       break\n",
        "   else:\n",
        "       print(\"Invalid Input\")\n"
      ],
      "metadata": {
        "colab": {
          "base_uri": "https://localhost:8080/"
        },
        "id": "lGRTzI-mHhUj",
        "outputId": "b1604a7a-7293-4950-f39e-3944b47959f8"
      },
      "execution_count": 1,
      "outputs": [
        {
          "output_type": "stream",
          "name": "stdout",
          "text": [
            "Select operation:\n",
            "1.Add\n",
            "2.Subtract\n",
            "3.Multiply\n",
            "4.Divide\n",
            "Enter choice(1/2/3/4): 1\n",
            "Enter first number: 12\n",
            "Enter second number: 8\n",
            "12.0 + 8.0 = 20.0\n"
          ]
        }
      ]
    }
  ]
}