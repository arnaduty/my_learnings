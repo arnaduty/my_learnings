{
 "cells": [
  {
   "cell_type": "code",
   "execution_count": 2,
   "id": "1d10be6b-d396-4f0c-8036-669fc3b1673d",
   "metadata": {},
   "outputs": [
    {
     "name": "stdout",
     "output_type": "stream",
     "text": [
      "Select operation:\n",
      "1.Add\n",
      "2.Subtract\n",
      "3.Multiply\n",
      "4.Divide\n"
     ]
    },
    {
     "name": "stdin",
     "output_type": "stream",
     "text": [
      "Enter choice(1/2/3/4):  4\n",
      "Enter first number:  100\n",
      "Enter second number:  0\n"
     ]
    },
    {
     "name": "stdout",
     "output_type": "stream",
     "text": [
      "100.0 / 0.0 = Error! Division by zero is not allowed.\n"
     ]
    }
   ],
   "source": [
    "def add(x, y):\n",
    "   return x + y\n",
    "\n",
    "def subtract(x, y):\n",
    "   return x - y\n",
    "\n",
    "def multiply(x, y):\n",
    "   return x * y\n",
    "\n",
    "def divide(x, y):\n",
    "   if y != 0:\n",
    "       return x / y\n",
    "   else:\n",
    "       return 'Error! Division by zero is not allowed.'\n",
    "\n",
    "print(\"Select operation:\")\n",
    "print(\"1.Add\")\n",
    "print(\"2.Subtract\")\n",
    "print(\"3.Multiply\")\n",
    "print(\"4.Divide\")\n",
    "\n",
    "while True:\n",
    "   choice = input(\"Enter choice(1/2/3/4): \")\n",
    "   if choice in ('1', '2', '3', '4'):\n",
    "       num1 = float(input(\"Enter first number: \"))\n",
    "       num2 = float(input(\"Enter second number: \"))\n",
    "       if choice == '1':\n",
    "           print(num1, \"+\", num2, \"=\", add(num1, num2))\n",
    "       elif choice == '2':\n",
    "           print(num1, \"-\", num2, \"=\", subtract(num1, num2))\n",
    "       elif choice == '3':\n",
    "           print(num1, \"*\", num2, \"=\", multiply(num1, num2))\n",
    "       elif choice == '4':\n",
    "           print(num1, \"/\", num2, \"=\", divide(num1, num2))\n",
    "       break\n",
    "   else:\n",
    "       print(\"Invalid Input\")\n"
   ]
  },
  {
   "cell_type": "code",
   "execution_count": null,
   "id": "35b7035f-45da-4eca-8a58-5970395228bb",
   "metadata": {},
   "outputs": [],
   "source": []
  }
 ],
 "metadata": {
  "kernelspec": {
   "display_name": "Python 3 (ipykernel)",
   "language": "python",
   "name": "python3"
  },
  "language_info": {
   "codemirror_mode": {
    "name": "ipython",
    "version": 3
   },
   "file_extension": ".py",
   "mimetype": "text/x-python",
   "name": "python",
   "nbconvert_exporter": "python",
   "pygments_lexer": "ipython3",
   "version": "3.11.7"
  }
 },
 "nbformat": 4,
 "nbformat_minor": 5
}
