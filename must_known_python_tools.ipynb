{
 "cells": [
  {
   "cell_type": "code",
   "execution_count": 1,
   "metadata": {},
   "outputs": [
    {
     "data": {
      "text/plain": [
       "range(0, 5)"
      ]
     },
     "execution_count": 1,
     "metadata": {},
     "output_type": "execute_result"
    }
   ],
   "source": [
    "range(5)"
   ]
  },
  {
   "cell_type": "code",
   "execution_count": 4,
   "metadata": {},
   "outputs": [
    {
     "name": "stdout",
     "output_type": "stream",
     "text": [
      "0 1 2 3 4 "
     ]
    }
   ],
   "source": [
    "for i in range(5):\n",
    "    print(i, end = ' ')"
   ]
  },
  {
   "cell_type": "code",
   "execution_count": 5,
   "metadata": {},
   "outputs": [
    {
     "name": "stdout",
     "output_type": "stream",
     "text": [
      "0\n",
      "1\n"
     ]
    }
   ],
   "source": [
    "for i in range(2):\n",
    "    print(i)"
   ]
  },
  {
   "cell_type": "code",
   "execution_count": 7,
   "metadata": {},
   "outputs": [
    {
     "name": "stdout",
     "output_type": "stream",
     "text": [
      "0\n",
      "1\n",
      "2\n",
      "3\n",
      "4\n"
     ]
    }
   ],
   "source": [
    "for j in range(5):\n",
    "    print(j)"
   ]
  },
  {
   "cell_type": "code",
   "execution_count": 9,
   "metadata": {},
   "outputs": [
    {
     "name": "stdout",
     "output_type": "stream",
     "text": [
      "0 1 2 3 4 0 1 2 3 4 "
     ]
    }
   ],
   "source": [
    "for i in range(2):\n",
    "    for j in range(5):\n",
    "        print(j, end = ' ')"
   ]
  },
  {
   "cell_type": "code",
   "execution_count": 10,
   "metadata": {},
   "outputs": [
    {
     "name": "stdout",
     "output_type": "stream",
     "text": [
      "[0, 0]\n",
      "[0, 1]\n",
      "[0, 2]\n",
      "[0, 3]\n",
      "[0, 4]\n",
      "[1, 0]\n",
      "[1, 1]\n",
      "[1, 2]\n",
      "[1, 3]\n",
      "[1, 4]\n"
     ]
    }
   ],
   "source": [
    "for i in range(2):\n",
    "    for j in range(5):\n",
    "        print([i,j])"
   ]
  },
  {
   "cell_type": "code",
   "execution_count": 11,
   "metadata": {},
   "outputs": [],
   "source": [
    "products = ['Product A', 'Product B']\n",
    "exp_sales = [10000, 11000, 13000, 14000]"
   ]
  },
  {
   "cell_type": "code",
   "execution_count": 12,
   "metadata": {},
   "outputs": [
    {
     "name": "stdout",
     "output_type": "stream",
     "text": [
      "['Product A', 10000]\n",
      "['Product A', 11000]\n",
      "['Product A', 13000]\n",
      "['Product A', 14000]\n",
      "['Product B', 10000]\n",
      "['Product B', 11000]\n",
      "['Product B', 13000]\n",
      "['Product B', 14000]\n"
     ]
    }
   ],
   "source": [
    "for i in products:\n",
    "    for j in exp_sales:\n",
    "        print([i,j])"
   ]
  },
  {
   "cell_type": "code",
   "execution_count": 13,
   "metadata": {},
   "outputs": [],
   "source": [
    "time_horizon = (1, 3, 12)"
   ]
  },
  {
   "cell_type": "code",
   "execution_count": 14,
   "metadata": {},
   "outputs": [
    {
     "name": "stdout",
     "output_type": "stream",
     "text": [
      "['Product A', 10000]\n",
      "['Product A', 30000]\n",
      "['Product A', 120000]\n",
      "['Product A', 11000]\n",
      "['Product A', 33000]\n",
      "['Product A', 132000]\n",
      "['Product A', 13000]\n",
      "['Product A', 39000]\n",
      "['Product A', 156000]\n",
      "['Product A', 14000]\n",
      "['Product A', 42000]\n",
      "['Product A', 168000]\n",
      "['Product B', 10000]\n",
      "['Product B', 30000]\n",
      "['Product B', 120000]\n",
      "['Product B', 11000]\n",
      "['Product B', 33000]\n",
      "['Product B', 132000]\n",
      "['Product B', 13000]\n",
      "['Product B', 39000]\n",
      "['Product B', 156000]\n",
      "['Product B', 14000]\n",
      "['Product B', 42000]\n",
      "['Product B', 168000]\n"
     ]
    }
   ],
   "source": [
    "for i in products:\n",
    "    for j in exp_sales:\n",
    "        for k in time_horizon:\n",
    "            print([i,j*k])"
   ]
  },
  {
   "cell_type": "code",
   "execution_count": 15,
   "metadata": {},
   "outputs": [
    {
     "name": "stdout",
     "output_type": "stream",
     "text": [
      "['Product A', 10000]\n",
      "['Product A', 30000]\n",
      "['Product A', 120000]\n",
      "['Product A', 11000]\n",
      "['Product A', 33000]\n",
      "['Product A', 132000]\n",
      "['Product A', 13000]\n",
      "['Product A', 39000]\n",
      "['Product A', 156000]\n",
      "['Product A', 14000]\n",
      "['Product A', 42000]\n",
      "['Product A', 168000]\n",
      "['Product B', 10000]\n",
      "['Product B', 30000]\n",
      "['Product B', 120000]\n",
      "['Product B', 11000]\n",
      "['Product B', 33000]\n",
      "['Product B', 132000]\n",
      "['Product B', 13000]\n",
      "['Product B', 39000]\n",
      "['Product B', 156000]\n",
      "['Product B', 14000]\n",
      "['Product B', 42000]\n",
      "['Product B', 168000]\n"
     ]
    }
   ],
   "source": [
    "for prod in products:\n",
    "    for sale in exp_sales:\n",
    "        for t_hor in time_horizon:\n",
    "            print([prod, sale*t_hor])"
   ]
  },
  {
   "cell_type": "code",
   "execution_count": 18,
   "metadata": {},
   "outputs": [
    {
     "name": "stdout",
     "output_type": "stream",
     "text": [
      "Expected sales for a period of 1 month(s) for Product A: $10000\n",
      "Expected sales for a period of 3 month(s) for Product A: $30000\n",
      "Expected sales for a period of 12 month(s) for Product A: $120000\n",
      "Expected sales for a period of 1 month(s) for Product A: $11000\n",
      "Expected sales for a period of 3 month(s) for Product A: $33000\n",
      "Expected sales for a period of 12 month(s) for Product A: $132000\n",
      "Expected sales for a period of 1 month(s) for Product A: $13000\n",
      "Expected sales for a period of 3 month(s) for Product A: $39000\n",
      "Expected sales for a period of 12 month(s) for Product A: $156000\n",
      "Expected sales for a period of 1 month(s) for Product A: $14000\n",
      "Expected sales for a period of 3 month(s) for Product A: $42000\n",
      "Expected sales for a period of 12 month(s) for Product A: $168000\n",
      "Expected sales for a period of 1 month(s) for Product B: $10000\n",
      "Expected sales for a period of 3 month(s) for Product B: $30000\n",
      "Expected sales for a period of 12 month(s) for Product B: $120000\n",
      "Expected sales for a period of 1 month(s) for Product B: $11000\n",
      "Expected sales for a period of 3 month(s) for Product B: $33000\n",
      "Expected sales for a period of 12 month(s) for Product B: $132000\n",
      "Expected sales for a period of 1 month(s) for Product B: $13000\n",
      "Expected sales for a period of 3 month(s) for Product B: $39000\n",
      "Expected sales for a period of 12 month(s) for Product B: $156000\n",
      "Expected sales for a period of 1 month(s) for Product B: $14000\n",
      "Expected sales for a period of 3 month(s) for Product B: $42000\n",
      "Expected sales for a period of 12 month(s) for Product B: $168000\n"
     ]
    }
   ],
   "source": [
    "for prod in products:\n",
    "    for sale in exp_sales:\n",
    "        for t_hor in time_horizon:\n",
    "            print('Expected sales for a period of {0} month(s) for {1}: ${sales}'.format(t_hor, prod, sales = sale*t_hor))"
   ]
  },
  {
   "cell_type": "code",
   "execution_count": 19,
   "metadata": {},
   "outputs": [
    {
     "name": "stdout",
     "output_type": "stream",
     "text": [
      "Expected sales for a period of 1 month(s) for Product A: $10000\n",
      "Expected sales for a period of 1 month(s) for Product A: $11000\n",
      "Expected sales for a period of 1 month(s) for Product A: $13000\n",
      "Expected sales for a period of 1 month(s) for Product A: $14000\n",
      "Expected sales for a period of 3 month(s) for Product A: $30000\n",
      "Expected sales for a period of 3 month(s) for Product A: $33000\n",
      "Expected sales for a period of 3 month(s) for Product A: $39000\n",
      "Expected sales for a period of 3 month(s) for Product A: $42000\n",
      "Expected sales for a period of 12 month(s) for Product A: $120000\n",
      "Expected sales for a period of 12 month(s) for Product A: $132000\n",
      "Expected sales for a period of 12 month(s) for Product A: $156000\n",
      "Expected sales for a period of 12 month(s) for Product A: $168000\n",
      "Expected sales for a period of 1 month(s) for Product B: $10000\n",
      "Expected sales for a period of 1 month(s) for Product B: $11000\n",
      "Expected sales for a period of 1 month(s) for Product B: $13000\n",
      "Expected sales for a period of 1 month(s) for Product B: $14000\n",
      "Expected sales for a period of 3 month(s) for Product B: $30000\n",
      "Expected sales for a period of 3 month(s) for Product B: $33000\n",
      "Expected sales for a period of 3 month(s) for Product B: $39000\n",
      "Expected sales for a period of 3 month(s) for Product B: $42000\n",
      "Expected sales for a period of 12 month(s) for Product B: $120000\n",
      "Expected sales for a period of 12 month(s) for Product B: $132000\n",
      "Expected sales for a period of 12 month(s) for Product B: $156000\n",
      "Expected sales for a period of 12 month(s) for Product B: $168000\n"
     ]
    }
   ],
   "source": [
    "for prod in products:\n",
    "    for t_hor in time_horizon:\n",
    "        for sale in exp_sales:\n",
    "            print('Expected sales for a period of {0} month(s) for {1}: ${sales}'.format(t_hor, prod, sales = sale*t_hor))"
   ]
  },
  {
   "cell_type": "code",
   "execution_count": null,
   "metadata": {},
   "outputs": [],
   "source": []
  }
 ],
 "metadata": {
  "kernelspec": {
   "display_name": "Python 3",
   "language": "python",
   "name": "python3"
  },
  "language_info": {
   "codemirror_mode": {
    "name": "ipython",
    "version": 3
   },
   "file_extension": ".py",
   "mimetype": "text/x-python",
   "name": "python",
   "nbconvert_exporter": "python",
   "pygments_lexer": "ipython3",
   "version": "3.12.2"
  }
 },
 "nbformat": 4,
 "nbformat_minor": 2
}
